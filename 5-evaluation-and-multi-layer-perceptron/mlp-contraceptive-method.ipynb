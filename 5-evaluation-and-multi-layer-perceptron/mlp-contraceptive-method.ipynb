{
 "cells": [
  {
   "cell_type": "code",
   "execution_count": 149,
   "metadata": {
    "collapsed": true
   },
   "outputs": [
    {
     "data": {
      "text/html": [
       "<link href='https://fonts.googleapis.com/css?family=Passion+One' rel='stylesheet' type='text/css'><style>div.attn { font-family: 'Helvetica Neue'; font-size: 30px; line-height: 40px; color: #FFFFFF; text-align: center; margin: 30px 0; border-width: 10px 0; border-style: solid; border-color: #5AAAAA; padding: 30px 0; background-color: #DDDDFF; }hr { border: 0; background-color: #ffffff; border-top: 1px solid black; }hr.major { border-top: 10px solid #5AAA5A; }hr.minor { border: none; background-color: #ffffff; border-top: 5px dotted #CC3333; }div.bubble { width: 65%; padding: 20px; background: #DDDDDD; border-radius: 15px; margin: 0 auto; font-style: italic; color: #f00; }em { color: #AAA; }div.c1{visibility:hidden;margin:0;height:0;}div.note{color:red;} th {text-align:center;}</style>"
      ],
      "text/plain": [
       "<IPython.core.display.HTML object>"
      ]
     },
     "execution_count": 149,
     "metadata": {},
     "output_type": "execute_result"
    }
   ],
   "source": [
    "#  Ebnable HTML/CSS \n",
    "from IPython.core.display import HTML\n",
    "HTML(\"<link href='https://fonts.googleapis.com/css?family=Passion+One' rel='stylesheet' type='text/css'><style>div.attn { font-family: 'Helvetica Neue'; font-size: 30px; line-height: 40px; color: #FFFFFF; text-align: center; margin: 30px 0; border-width: 10px 0; border-style: solid; border-color: #5AAAAA; padding: 30px 0; background-color: #DDDDFF; }hr { border: 0; background-color: #ffffff; border-top: 1px solid black; }hr.major { border-top: 10px solid #5AAA5A; }hr.minor { border: none; background-color: #ffffff; border-top: 5px dotted #CC3333; }div.bubble { width: 65%; padding: 20px; background: #DDDDDD; border-radius: 15px; margin: 0 auto; font-style: italic; color: #f00; }em { color: #AAA; }div.c1{visibility:hidden;margin:0;height:0;}div.note{color:red;} th {text-align:center;}</style>\")"
   ]
  },
  {
   "cell_type": "markdown",
   "metadata": {},
   "source": [
    "# Contraceptive Method Choice\n",
    "Lab Assignment Five: Evaluation and Multi-Layer Perceptron\n",
    "\n",
    "**_Jake Oien, Seung Ki Lee, Jenn Le_**"
   ]
  },
  {
   "cell_type": "markdown",
   "metadata": {},
   "source": [
    "## Data Preparation and Overview"
   ]
  },
  {
   "cell_type": "markdown",
   "metadata": {},
   "source": [
    "### Class Variables"
   ]
  },
  {
   "cell_type": "markdown",
   "metadata": {},
   "source": [
    "Dataset Source: https://archive.ics.uci.edu/ml/datasets/Contraceptive+Method+Choice"
   ]
  },
  {
   "cell_type": "markdown",
   "metadata": {},
   "source": [
    "This dataset is a subset of the 1987 National Indonesia Contraceptive Prevalence Survey. The samples are married women who were either not pregnant or do not know if they were at the time of interview. The problem is to predict the current contraceptive method choice (no use, long-term methods, or short-term methods) of a woman based on her demographic and socio-economic characteristics.\n",
    "\n",
    "1. Wife's age (numerical) \n",
    "2. Wife's education (categorical) 1=low, 2, 3, 4=high \n",
    "3. Husband's education (categorical) 1=low, 2, 3, 4=high \n",
    "4. Number of children ever born (numerical) \n",
    "5. Wife's religion (binary) 0=Non-Islam, 1=Islam \n",
    "6. Wife's now working? (binary) 0=Yes, 1=No \n",
    "7. Husband's occupation (categorical) 1, 2, 3, 4 \n",
    "8. Standard-of-living index (categorical) 1=low, 2, 3, 4=high \n",
    "9. Media exposure (binary) 0=Good, 1=Not good \n",
    "10. Contraceptive method used (class attribute) 1=No-use, 2=Long-term, 3=Short-term\n",
    "### Business Case\n",
    "\n",
    "For the purposes of this report, and our understanding of the dataset, we will define the three classifiers here. We will assume 0/No-use of contraceptives means that the woman is not currently using contraceptives. 1/Short-term use is contraceptives with a short-term duration (such as the pill). We assume 2/long-term contraceptives are those that can last a much longer period of time than short-term method, so ones that can years or are permanent. \n",
    "\n",
    "It is likely that this data will not be able to achieve a high level of accuracy on classification, given that 8 features would not intuitively seem to be able to predict a woman’s contraceptive use. That is a quite complicated social issue. \n",
    "\n",
    "However, some level of prediction beyond random chance might be used as a weight in some ad targeting platform. Given some set of data about a woman, a company that specializes in contraceptives may want to target an ad toward that woman. If with some level of confidence beyond random guessing a model is able to predict that a woman is using short term contraceptives, the company that makes the contraceptives might target that woman/her demographic with ads as opposed to another demographic, in order to take the competition from other short term contraceptive companies.\n",
    "\n",
    " If a woman is predicted to be using long-term contraceptives, the company might not target ads at her, because a short-term contraceptive would be useless. Also, if a woman is not predicted to be using contraceptives, analysis of her data might conclude that she is not only using contraceptives right now, but in the future will also not use contraceptives. An ad would not be a good use of money there. \n",
    "\n",
    "Something that might indicate success of the model is if it can achieve a rate of success that is simply reasonably better than random chance. The better the overall accuracy score, the more confident an advertiser might feel about using it in an ad targeting platform. Again, the accuracy score would not be used as a end-all be-all prediction, but might be used as a weight in whether or not to include a given woman in the target audience for a contraceptive product. "
   ]
  },
  {
   "cell_type": "code",
   "execution_count": 150,
   "metadata": {},
   "outputs": [],
   "source": [
    "import pandas as pd\n",
    "import numpy as np\n",
    "import matplotlib.pyplot as plt\n",
    "\n",
    "# Here, we'll import the data and add column names\n",
    "col_names = [\"wife_age\", \n",
    "             \"wife_education\", \n",
    "             \"husband_education\", \n",
    "             \"num_children\", \n",
    "             \"wife_practices_islam\", \n",
    "             \"wife_working\", \n",
    "             \"husband_occupation\",\n",
    "             \"sol_index\",  # standard of living index\n",
    "             \"media_exposure\",\n",
    "             \"contraceptive_method\"\n",
    "            ]\n",
    "data = pd.read_csv(\"./cmc.csv\", header=None, names=col_names, encoding='latin-1')"
   ]
  },
  {
   "cell_type": "code",
   "execution_count": 151,
   "metadata": {
    "collapsed": true
   },
   "outputs": [
    {
     "name": "stdout",
     "output_type": "stream",
     "text": [
      "<class 'pandas.core.frame.DataFrame'>\n",
      "RangeIndex: 1473 entries, 0 to 1472\n",
      "Data columns (total 10 columns):\n",
      "wife_age                1473 non-null int64\n",
      "wife_education          1473 non-null int64\n",
      "husband_education       1473 non-null int64\n",
      "num_children            1473 non-null int64\n",
      "wife_practices_islam    1473 non-null int64\n",
      "wife_working            1473 non-null int64\n",
      "husband_occupation      1473 non-null int64\n",
      "sol_index               1473 non-null int64\n",
      "media_exposure          1473 non-null int64\n",
      "contraceptive_method    1473 non-null int64\n",
      "dtypes: int64(10)\n",
      "memory usage: 115.2 KB\n"
     ]
    },
    {
     "data": {
      "text/html": [
       "<div>\n",
       "<style>\n",
       "    .dataframe thead tr:only-child th {\n",
       "        text-align: right;\n",
       "    }\n",
       "\n",
       "    .dataframe thead th {\n",
       "        text-align: left;\n",
       "    }\n",
       "\n",
       "    .dataframe tbody tr th {\n",
       "        vertical-align: top;\n",
       "    }\n",
       "</style>\n",
       "<table border=\"1\" class=\"dataframe\">\n",
       "  <thead>\n",
       "    <tr style=\"text-align: right;\">\n",
       "      <th></th>\n",
       "      <th>wife_age</th>\n",
       "      <th>wife_education</th>\n",
       "      <th>husband_education</th>\n",
       "      <th>num_children</th>\n",
       "      <th>wife_practices_islam</th>\n",
       "      <th>wife_working</th>\n",
       "      <th>husband_occupation</th>\n",
       "      <th>sol_index</th>\n",
       "      <th>media_exposure</th>\n",
       "      <th>contraceptive_method</th>\n",
       "    </tr>\n",
       "  </thead>\n",
       "  <tbody>\n",
       "    <tr>\n",
       "      <th>0</th>\n",
       "      <td>24</td>\n",
       "      <td>2</td>\n",
       "      <td>3</td>\n",
       "      <td>3</td>\n",
       "      <td>1</td>\n",
       "      <td>1</td>\n",
       "      <td>2</td>\n",
       "      <td>3</td>\n",
       "      <td>0</td>\n",
       "      <td>1</td>\n",
       "    </tr>\n",
       "    <tr>\n",
       "      <th>1</th>\n",
       "      <td>45</td>\n",
       "      <td>1</td>\n",
       "      <td>3</td>\n",
       "      <td>10</td>\n",
       "      <td>1</td>\n",
       "      <td>1</td>\n",
       "      <td>3</td>\n",
       "      <td>4</td>\n",
       "      <td>0</td>\n",
       "      <td>1</td>\n",
       "    </tr>\n",
       "    <tr>\n",
       "      <th>2</th>\n",
       "      <td>43</td>\n",
       "      <td>2</td>\n",
       "      <td>3</td>\n",
       "      <td>7</td>\n",
       "      <td>1</td>\n",
       "      <td>1</td>\n",
       "      <td>3</td>\n",
       "      <td>4</td>\n",
       "      <td>0</td>\n",
       "      <td>1</td>\n",
       "    </tr>\n",
       "    <tr>\n",
       "      <th>3</th>\n",
       "      <td>42</td>\n",
       "      <td>3</td>\n",
       "      <td>2</td>\n",
       "      <td>9</td>\n",
       "      <td>1</td>\n",
       "      <td>1</td>\n",
       "      <td>3</td>\n",
       "      <td>3</td>\n",
       "      <td>0</td>\n",
       "      <td>1</td>\n",
       "    </tr>\n",
       "    <tr>\n",
       "      <th>4</th>\n",
       "      <td>36</td>\n",
       "      <td>3</td>\n",
       "      <td>3</td>\n",
       "      <td>8</td>\n",
       "      <td>1</td>\n",
       "      <td>1</td>\n",
       "      <td>3</td>\n",
       "      <td>2</td>\n",
       "      <td>0</td>\n",
       "      <td>1</td>\n",
       "    </tr>\n",
       "    <tr>\n",
       "      <th>5</th>\n",
       "      <td>19</td>\n",
       "      <td>4</td>\n",
       "      <td>4</td>\n",
       "      <td>0</td>\n",
       "      <td>1</td>\n",
       "      <td>1</td>\n",
       "      <td>3</td>\n",
       "      <td>3</td>\n",
       "      <td>0</td>\n",
       "      <td>1</td>\n",
       "    </tr>\n",
       "    <tr>\n",
       "      <th>6</th>\n",
       "      <td>38</td>\n",
       "      <td>2</td>\n",
       "      <td>3</td>\n",
       "      <td>6</td>\n",
       "      <td>1</td>\n",
       "      <td>1</td>\n",
       "      <td>3</td>\n",
       "      <td>2</td>\n",
       "      <td>0</td>\n",
       "      <td>1</td>\n",
       "    </tr>\n",
       "    <tr>\n",
       "      <th>7</th>\n",
       "      <td>21</td>\n",
       "      <td>3</td>\n",
       "      <td>3</td>\n",
       "      <td>1</td>\n",
       "      <td>1</td>\n",
       "      <td>0</td>\n",
       "      <td>3</td>\n",
       "      <td>2</td>\n",
       "      <td>0</td>\n",
       "      <td>1</td>\n",
       "    </tr>\n",
       "    <tr>\n",
       "      <th>8</th>\n",
       "      <td>27</td>\n",
       "      <td>2</td>\n",
       "      <td>3</td>\n",
       "      <td>3</td>\n",
       "      <td>1</td>\n",
       "      <td>1</td>\n",
       "      <td>3</td>\n",
       "      <td>4</td>\n",
       "      <td>0</td>\n",
       "      <td>1</td>\n",
       "    </tr>\n",
       "    <tr>\n",
       "      <th>9</th>\n",
       "      <td>45</td>\n",
       "      <td>1</td>\n",
       "      <td>1</td>\n",
       "      <td>8</td>\n",
       "      <td>1</td>\n",
       "      <td>1</td>\n",
       "      <td>2</td>\n",
       "      <td>2</td>\n",
       "      <td>1</td>\n",
       "      <td>1</td>\n",
       "    </tr>\n",
       "  </tbody>\n",
       "</table>\n",
       "</div>"
      ],
      "text/plain": [
       "   wife_age  wife_education  husband_education  num_children  \\\n",
       "0        24               2                  3             3   \n",
       "1        45               1                  3            10   \n",
       "2        43               2                  3             7   \n",
       "3        42               3                  2             9   \n",
       "4        36               3                  3             8   \n",
       "5        19               4                  4             0   \n",
       "6        38               2                  3             6   \n",
       "7        21               3                  3             1   \n",
       "8        27               2                  3             3   \n",
       "9        45               1                  1             8   \n",
       "\n",
       "   wife_practices_islam  wife_working  husband_occupation  sol_index  \\\n",
       "0                     1             1                   2          3   \n",
       "1                     1             1                   3          4   \n",
       "2                     1             1                   3          4   \n",
       "3                     1             1                   3          3   \n",
       "4                     1             1                   3          2   \n",
       "5                     1             1                   3          3   \n",
       "6                     1             1                   3          2   \n",
       "7                     1             0                   3          2   \n",
       "8                     1             1                   3          4   \n",
       "9                     1             1                   2          2   \n",
       "\n",
       "   media_exposure  contraceptive_method  \n",
       "0               0                     1  \n",
       "1               0                     1  \n",
       "2               0                     1  \n",
       "3               0                     1  \n",
       "4               0                     1  \n",
       "5               0                     1  \n",
       "6               0                     1  \n",
       "7               0                     1  \n",
       "8               0                     1  \n",
       "9               1                     1  "
      ]
     },
     "execution_count": 151,
     "metadata": {},
     "output_type": "execute_result"
    }
   ],
   "source": [
    "data.info()\n",
    "data.head(10)"
   ]
  },
  {
   "cell_type": "markdown",
   "metadata": {},
   "source": [
    "First, all of the data exists; there are no non-null values. \n",
    "\n",
    "Second, the `husband_occupation` field does not have a good description for the data. The only information about it is that it is a categorical field that can contain the values 1,2,3,4. Without more information, we will remove `husband_occupation` from the dataset. \n",
    "\n",
    "Third, the `wife_working` field has some non-intuitive inverted logic in it. In the dataset given, a 0 means working and a 1 means not working. We will flip those around so that now the dataset means that a 1 means working and a 0 means not working. Similarly, the `media_exposure` column uses a 0 to mean \"Good\" and a 1 to mean \"Not good\". We will also flip those values so that the lower number refers to a worse category. Also, the wife_working column has the same issue. 0 means working but we will make it mean not working. \n",
    "\n",
    "Finally, because our classifier doesn't really make sense since 'long-term' comes between 'no use' and 'short-term' therefore we'll change the values for 'no use', 'short-term', and 'long-term' to be 0, 1, and 2 respectively. "
   ]
  },
  {
   "cell_type": "code",
   "execution_count": 152,
   "metadata": {
    "collapsed": true
   },
   "outputs": [
    {
     "data": {
      "text/html": [
       "<div>\n",
       "<style>\n",
       "    .dataframe thead tr:only-child th {\n",
       "        text-align: right;\n",
       "    }\n",
       "\n",
       "    .dataframe thead th {\n",
       "        text-align: left;\n",
       "    }\n",
       "\n",
       "    .dataframe tbody tr th {\n",
       "        vertical-align: top;\n",
       "    }\n",
       "</style>\n",
       "<table border=\"1\" class=\"dataframe\">\n",
       "  <thead>\n",
       "    <tr style=\"text-align: right;\">\n",
       "      <th></th>\n",
       "      <th>wife_age</th>\n",
       "      <th>wife_education</th>\n",
       "      <th>husband_education</th>\n",
       "      <th>num_children</th>\n",
       "      <th>wife_practices_islam</th>\n",
       "      <th>wife_working</th>\n",
       "      <th>sol_index</th>\n",
       "      <th>media_exposure</th>\n",
       "      <th>contraceptive_method</th>\n",
       "    </tr>\n",
       "  </thead>\n",
       "  <tbody>\n",
       "    <tr>\n",
       "      <th>0</th>\n",
       "      <td>24</td>\n",
       "      <td>2</td>\n",
       "      <td>3</td>\n",
       "      <td>3</td>\n",
       "      <td>1</td>\n",
       "      <td>0</td>\n",
       "      <td>3</td>\n",
       "      <td>1</td>\n",
       "      <td>0</td>\n",
       "    </tr>\n",
       "    <tr>\n",
       "      <th>1</th>\n",
       "      <td>45</td>\n",
       "      <td>1</td>\n",
       "      <td>3</td>\n",
       "      <td>10</td>\n",
       "      <td>1</td>\n",
       "      <td>0</td>\n",
       "      <td>4</td>\n",
       "      <td>1</td>\n",
       "      <td>0</td>\n",
       "    </tr>\n",
       "    <tr>\n",
       "      <th>2</th>\n",
       "      <td>43</td>\n",
       "      <td>2</td>\n",
       "      <td>3</td>\n",
       "      <td>7</td>\n",
       "      <td>1</td>\n",
       "      <td>0</td>\n",
       "      <td>4</td>\n",
       "      <td>1</td>\n",
       "      <td>0</td>\n",
       "    </tr>\n",
       "    <tr>\n",
       "      <th>3</th>\n",
       "      <td>42</td>\n",
       "      <td>3</td>\n",
       "      <td>2</td>\n",
       "      <td>9</td>\n",
       "      <td>1</td>\n",
       "      <td>0</td>\n",
       "      <td>3</td>\n",
       "      <td>1</td>\n",
       "      <td>0</td>\n",
       "    </tr>\n",
       "    <tr>\n",
       "      <th>4</th>\n",
       "      <td>36</td>\n",
       "      <td>3</td>\n",
       "      <td>3</td>\n",
       "      <td>8</td>\n",
       "      <td>1</td>\n",
       "      <td>0</td>\n",
       "      <td>2</td>\n",
       "      <td>1</td>\n",
       "      <td>0</td>\n",
       "    </tr>\n",
       "  </tbody>\n",
       "</table>\n",
       "</div>"
      ],
      "text/plain": [
       "   wife_age  wife_education  husband_education  num_children  \\\n",
       "0        24               2                  3             3   \n",
       "1        45               1                  3            10   \n",
       "2        43               2                  3             7   \n",
       "3        42               3                  2             9   \n",
       "4        36               3                  3             8   \n",
       "\n",
       "   wife_practices_islam  wife_working  sol_index  media_exposure  \\\n",
       "0                     1             0          3               1   \n",
       "1                     1             0          4               1   \n",
       "2                     1             0          4               1   \n",
       "3                     1             0          3               1   \n",
       "4                     1             0          2               1   \n",
       "\n",
       "   contraceptive_method  \n",
       "0                     0  \n",
       "1                     0  \n",
       "2                     0  \n",
       "3                     0  \n",
       "4                     0  "
      ]
     },
     "execution_count": 152,
     "metadata": {},
     "output_type": "execute_result"
    }
   ],
   "source": [
    "# remove husband_occupation\n",
    "if \"husband_occupation\" in data:\n",
    "    del data[\"husband_occupation\"]\n",
    "    \n",
    "# flip 1s and 0s    1-1 = 0, 1-0 = 1\n",
    "data[\"wife_working\"] = 1-data[\"wife_working\"]\n",
    "data[\"media_exposure\"] = 1-data[\"media_exposure\"]\n",
    "\n",
    "# replacing contraceptive method\n",
    "data['contraceptive_method'].replace(to_replace=[1, 3, 2],\n",
    "                        value=[0, 1, 2], inplace = True)\n",
    "data.head()"
   ]
  },
  {
   "cell_type": "markdown",
   "metadata": {},
   "source": [
    "There are a few things we can look at regarding this data. To start, let's look at the class distribution. "
   ]
  },
  {
   "cell_type": "code",
   "execution_count": 153,
   "metadata": {
    "collapsed": true
   },
   "outputs": [
    {
     "name": "stdout",
     "output_type": "stream",
     "text": [
      "Class Distribution\n",
      "contraceptive_method\n",
      "0    629\n",
      "1    511\n",
      "2    333\n",
      "Name: num_children, dtype: int64\n"
     ]
    },
    {
     "data": {
      "image/png": "[encoded data removed]",
      "text/plain": [
       "<matplotlib.figure.Figure at 0x2b5f39704a8>"
      ]
     },
     "metadata": {},
     "output_type": "display_data"
    }
   ],
   "source": [
    "%matplotlib inline\n",
    "import seaborn as sns\n",
    "import matplotlib\n",
    "import matplotlib.pyplot as plt\n",
    "import warnings\n",
    "warnings.simplefilter('ignore', DeprecationWarning)\n",
    "\n",
    "data_grouped_by_contraceptive_method = data.groupby(by=[\"contraceptive_method\"])\n",
    "\n",
    "print(\"Class Distribution\")\n",
    "print(data_grouped_by_contraceptive_method.num_children.count())\n",
    "data_grouped_by_contraceptive_method.num_children.count().plot(kind='bar')\n",
    "plt.xlabel(\"Number of instances\")\n",
    "plt.title(\"Number of instances per class\")\n",
    "plt.show()"
   ]
  },
  {
   "cell_type": "markdown",
   "metadata": {},
   "source": [
    "Let's take a look at contraceptive use vs the number of children the wife has. "
   ]
  },
  {
   "cell_type": "code",
   "execution_count": 154,
   "metadata": {
    "collapsed": true
   },
   "outputs": [
    {
     "name": "stdout",
     "output_type": "stream",
     "text": [
      "\n",
      "Class Distribution Grouped by Number of Children\n",
      "contraceptive_method    0    1   2\n",
      "num_children                      \n",
      "0                      95    2   0\n",
      "1                     143   87  46\n",
      "2                     114  106  56\n",
      "3                      70  119  70\n",
      "4                      57   78  62\n",
      "5                      44   55  36\n",
      "6                      35   30  27\n",
      "7                      18   12  19\n",
      "8                      29    9   9\n",
      "9                       5    8   3\n",
      "10                      9    0   2\n",
      "11                      6    3   2\n",
      "12                      4    0   0\n",
      "13                      0    1   1\n",
      "16                      0    1   0\n"
     ]
    },
    {
     "data": {
      "text/plain": [
       "<matplotlib.axes._subplots.AxesSubplot at 0x2b5f3c0d278>"
      ]
     },
     "execution_count": 154,
     "metadata": {},
     "output_type": "execute_result"
    },
    {
     "data": {
      "image/png": "[encoded data removed]",
      "text/plain": [
       "<matplotlib.figure.Figure at 0x2b5f3c0ccc0>"
      ]
     },
     "metadata": {},
     "output_type": "display_data"
    }
   ],
   "source": [
    "num_children_by_contraceptive_method = pd.crosstab([data[\"num_children\"]], data.contraceptive_method)\n",
    "\n",
    "print(\"\\nClass Distribution Grouped by Number of Children\")\n",
    "print(num_children_by_contraceptive_method)\n",
    "\n",
    "num_children_by_contraceptive_method.plot(kind=\"bar\", stacked=True)"
   ]
  },
  {
   "cell_type": "markdown",
   "metadata": {},
   "source": [
    "The majority of the woman surveyed have 5 or less children. Of note, 2 women had 16 children!"
   ]
  },
  {
   "cell_type": "code",
   "execution_count": 155,
   "metadata": {
    "collapsed": true
   },
   "outputs": [
    {
     "data": {
      "image/png": "[encoded data removed]",
      "text/plain": [
       "<matplotlib.figure.Figure at 0x2b5f5be3978>"
      ]
     },
     "metadata": {},
     "output_type": "display_data"
    }
   ],
   "source": [
    "num_children_percentage = num_children_by_contraceptive_method.div(num_children_by_contraceptive_method.sum(axis=1).astype(float),\n",
    "                             axis=0) # normalize the value\n",
    "\n",
    "num_children_percentage.plot(kind=\"barh\", stacked=True);"
   ]
  },
  {
   "cell_type": "markdown",
   "metadata": {},
   "source": [
    "We can see that for wives with 0 children, contraceptive use is almost all \"No use\". As the number of children increases, we see that families with a smaller amount of children (1-3) start to increase in use of long-term contraceptive use. Similarly, after number of children gets to 3, short term contraceptive usage seems to increase in the percentage of the sampled population. \n",
    "\n",
    "One might think that contraceptive use would correspond with having less children, because women on birth control have less kids. However, contraceptive usage might actually be a response to family size. At a certain point, a family might decide their family is too big, and start using contraceptives to avoid their family getting larger. This is just one of many possible explanations for this dataset. \n",
    "\n",
    "Another point to take a look at is the use of contraceptives related to education levels and standards of living. According to the paper found here https://www.jstor.org/stable/2138087, women's contraceptive usage tends to increase as their level of education increases. Additionally, a lower standard of living might mean that a women has less access to contraceptives and hence would tend towards \"No use\". This dataset lines up with that research, but that observation should only be noted, rather be presented as a truth or proof of the research's validity. "
   ]
  },
  {
   "cell_type": "code",
   "execution_count": 156,
   "metadata": {
    "collapsed": true
   },
   "outputs": [
    {
     "data": {
      "image/png": "[encoded data removed]",
      "text/plain": [
       "<matplotlib.figure.Figure at 0x2b5f5cdc908>"
      ]
     },
     "metadata": {},
     "output_type": "display_data"
    }
   ],
   "source": [
    "sol = pd.crosstab([data.sol_index], data.contraceptive_method)\n",
    "# print (sol)\n",
    "# sol_and_education.plot(kind=\"bar\", stacked=True)\n",
    "\n",
    "sol_percentage = sol.div(sol.sum(axis=1).astype(float),\n",
    "                             axis=0) # normalize the value\n",
    "\n",
    "sol_percentage.plot(kind=\"barh\", stacked=True)\n",
    "plt.title(\"Percentage of contraceptive usages by standard of living\");\n",
    "plt.xlabel(\"Percentage of class\");\n",
    "plt.legend();"
   ]
  },
  {
   "cell_type": "markdown",
   "metadata": {},
   "source": [
    "One thing to note from the table here is the increase in number of women surveyed as their standard of living increases. We can see clearly from this graph that as the standard of living goes up, use of contraceptives goes up. Short term contraceptive use seems to stay constant, but long term contraceptive use goes up. \n",
    "\n",
    "Finally, let's look at education and contraceptive use. "
   ]
  },
  {
   "cell_type": "code",
   "execution_count": 157,
   "metadata": {
    "collapsed": true
   },
   "outputs": [
    {
     "name": "stdout",
     "output_type": "stream",
     "text": [
      "contraceptive_method    0    1    2\n",
      "wife_education                     \n",
      "1                     103   40    9\n",
      "2                     176  121   37\n",
      "3                     175  155   80\n",
      "4                     175  195  207\n"
     ]
    },
    {
     "data": {
      "image/png": "[encoded data removed]",
      "text/plain": [
       "<matplotlib.figure.Figure at 0x2b5f5c513c8>"
      ]
     },
     "metadata": {},
     "output_type": "display_data"
    }
   ],
   "source": [
    "education = pd.crosstab([data.wife_education], data.contraceptive_method)\n",
    "print (education)\n",
    "# sol_and_education.plot(kind=\"bar\", stacked=True)\n",
    "\n",
    "education_percentage = education.div(education.sum(axis=1).astype(float),\n",
    "                             axis=0) # normalize the value\n",
    "\n",
    "education_percentage.plot(kind=\"barh\", stacked=True)\n",
    "plt.title(\"Percentage of contraceptive usages by education\")\n",
    "plt.xlabel(\"Percentage of class\");"
   ]
  },
  {
   "cell_type": "code",
   "execution_count": 158,
   "metadata": {
    "collapsed": true
   },
   "outputs": [
    {
     "data": {
      "image/png": "[encoded data removed]",
      "text/plain": [
       "<matplotlib.figure.Figure at 0x2b5f33b2f28>"
      ]
     },
     "metadata": {},
     "output_type": "display_data"
    }
   ],
   "source": [
    "# plot the correlation matrix using seaborn\n",
    "# cmap = sns.diverging_palette(220, 10, as_cmap=True) \n",
    "# sns.set(style=\"darkgrid\") \n",
    "\n",
    "f, ax = plt.subplots(figsize=(9, 9))\n",
    "\n",
    "sns.heatmap(data.corr(), annot=True, center=0)\n",
    "\n",
    "f.tight_layout()"
   ]
  },
  {
   "cell_type": "markdown",
   "metadata": {},
   "source": [
    "From this heatmap we see a few strong correlations. The strongest correlation is that between the husband's education and the wife's education. It would make sense that a couple would tend to have similar education levels, or at least that as one member of the couple trends towards higher education that the other would trend toward higher education. Of course, this cannot be generalized, this is merely the correlation that we are observing. \n",
    "\n",
    "Additionally, we see that the next highest correlation is that between wife_age and num_children. Younger women simply haven't had as much time as other women to have children, which might explain the strong correlation. \n",
    "\n",
    "Related to contraceptive method, we see that the strongest correlations are with the Standard of Living index, and husband/wife education. These are overall pretty weak correlations, but that doesn't mean that the data cannot be predicted. Correlation measurements measure a linear relationship between variables, and they might not actually have an underlying linear relationship."
   ]
  },
  {
   "cell_type": "markdown",
   "metadata": {},
   "source": [
    "## Data Evaluation"
   ]
  },
  {
   "cell_type": "markdown",
   "metadata": {},
   "source": [
    "### Choose and Explain Metric to Evaluate Performance\n",
    "\n",
    "Originally, when we worked with this dataset, we focused on overall accuracy as our measure of success. This is not necessarily what we want for our business case. \n",
    "\n",
    "As a reminder of our business case, we are trying to advertise our short-term contraceptive product to women. Our assumption is that it would be a waste of money to advertise the product to women who are using long-term contraceptives, as our product would not provide them with any value. \n",
    "\n",
    "We assume that a woman who is not currently using contraceptives and one who is using short-term contraceptives can be considered under the same advertising strategy, either because we would like to convince someone new to use our product, or because we think we can take business from another competing product.  Therefore, we will consider misclassifications of no-use/short-term use to be correct classifications of each other.\n",
    "\n",
    "Additionally, if the actual class is a long-term user, we don't want to advertise our product to them becasue that would be a waste of money according to our assumption that they will not buy our product, so we consider misclassifications when the actual class is long-term use. \n",
    "\n",
    "When the actual class is a short-term user or no use, and we predict that they are a long term user, we will not be advertising to a potential buyer of our product. We would be losing out on potential business, so we will consider those misclassifications in our evaluation criteria.\n",
    "\n",
    "Finally, intellectually, we would like to be able to say that we can classify everything properly, but for our business case, it does not matter to us if we can successfully classify long-term users. In fact, a lot of successful classifications of long-term users could bias our score and make us think we're doing better for our business case than we actually are. In order to keep our (admittedly generous measure) pessimistic, we do not include successful classifications of long term users in our evaluation criteria, in order to keep the focus of our evaluation on the cases that make or lose us money. Long term use is still included in the metric, but only on misclassifications, and successful classifications do not affect the metric. \n",
    "\n",
    "For our metric, we follow the same principle as the accuracy score metric, by summing up successful classifications and dividing that sum by the total number of instances considered.\n",
    "\n",
    "The following table summarizes our evaluation criteria score measure: \n",
    "<table>\n",
    "    <tbody>\n",
    "    <tr>\n",
    "        <th colspan=\"2\" rowspan=\"2\"></th>\n",
    "        <th colspan=\"3\">Predicted class</th>\n",
    "    </tr>\n",
    "    <tr>\n",
    "        <th>No use</th>\n",
    "        <th>Short-term use</th>\n",
    "        <th>Long-term use</th>\n",
    "    </tr>\n",
    "    <tr>\n",
    "        <th rowspan=\"3\">Actual class</th>\n",
    "        <th>No use</th>\n",
    "        <td>1</td>\n",
    "        <td>1</td>\n",
    "        <td>0</td>\n",
    "    </tr>\n",
    "    <tr>\n",
    "        <th>Short-term use</th>\n",
    "        <td>1</td>\n",
    "        <td>1</td>\n",
    "        <td>0</td>\n",
    "    </tr>\n",
    "    <tr>\n",
    "        <th>Long-term use</th>\n",
    "        <td>0</td>\n",
    "        <td>0</td>\n",
    "        <td>N/A</td>\n",
    "    </tr>\n",
    "    </tbody>\n",
    "</table>\n",
    "\n",
    "For reference, here is a table for the accuracy_score in the same format:\n",
    "\n",
    "<table>\n",
    "    <tbody>\n",
    "    <tr>\n",
    "        <th colspan=\"2\" rowspan=\"2\"></th>\n",
    "        <th colspan=\"3\">Predicted class</th>\n",
    "    </tr>\n",
    "    <tr>\n",
    "        <th>No use</th>\n",
    "        <th>Short-term use</th>\n",
    "        <th>Long-term use</th>\n",
    "    </tr>\n",
    "    <tr>\n",
    "        <th rowspan=\"3\">Actual class</th>\n",
    "        <th>No use</th>\n",
    "        <td>1</td>\n",
    "        <td>0</td>\n",
    "        <td>0</td>\n",
    "    </tr>\n",
    "    <tr>\n",
    "        <th>Short-term use</th>\n",
    "        <td>0</td>\n",
    "        <td>1</td>\n",
    "        <td>0</td>\n",
    "    </tr>\n",
    "    <tr>\n",
    "        <th>Long-term use</th>\n",
    "        <td>0</td>\n",
    "        <td>0</td>\n",
    "        <td>1</td>\n",
    "    </tr>\n",
    "    </tbody>\n",
    "</table>"
   ]
  },
  {
   "cell_type": "markdown",
   "metadata": {},
   "source": [
    "What our score does is turns the scoring into a binary scoring problem, as No-use and short-term use can be considered to be the same for the intents of the scoring function. With more domain knowledge, a more sophisticated scoring function could be used that assigns different costs to the different misclassifications. For example, our assumption that No-use and Short-term use are the same might be somewhat correct, but maybe it turns out that a slightly different advertising campaign targeted at the two classes might be more financially lucrative. \n",
    "\n",
    "When tuning a model based on maximizing our score, it seems that the scoring metric could bias the model towards predicting No-use and Short-term use, because the model receives no benefit to its score from classifying an instance as Long-term usage. If this turns out to be the case, a different evaluation criterion should be used. One thing that should be given a look as a sniff test is to look at the micro precision of the Long-term use class. If as the model is tuned the micro-precision score goes down as our custom metric goes up, then we might be seeing the effects of tending to classify everything as No-use or Short-term use. We could also look at the accuracy of the model's predictions to achieve a similar effect. \n",
    "\n",
    "____\n",
    "Finally, here is the implementation of our score and an example of it. "
   ]
  },
  {
   "cell_type": "markdown",
   "metadata": {},
   "source": [
    "### Method for Dividing and Testing Dataset\n",
    "\n",
    "For dividing and testing our dataset, we will use 10-fold cross validation. We considered using stratified k-fold cross validation, but this is why we didn't ultimately go with that route. \n",
    "\n",
    "The reasoning for using stratified cross validation would be to ensure that a fold contains enough members of an underbalanced class to sufficiently train that fold's model. We do not have a huge class imbalance, so that problem is not relevant. \n",
    "\n",
    "Additionally, another reason to stratify testing sets is to preserve some ratio of classes. We are unable to say for certain if the ratio of our classes is indicative of that of the population, firstly because we did not do the data collection ourself and secondly because we do not have the data for the full population. We cannot be certain that a new batch of women's data coming in will have that same class ratio, and so we do not want to introduce any sort of bias that a stratified method might cause. "
   ]
  },
  {
   "cell_type": "markdown",
   "metadata": {},
   "source": [
    "## Modeling"
   ]
  },
  {
   "cell_type": "markdown",
   "metadata": {},
   "source": [
    "### Custom Implementation of Multi-Layer Perceptron"
   ]
  },
  {
   "cell_type": "code",
   "execution_count": 159,
   "metadata": {},
   "outputs": [],
   "source": [
    "# Example adapted from https://github.com/rasbt/python-machine-learning-book/blob/master/code/ch12/ch12.ipynb\n",
    "# Original Author: Sebastian Raschka\n",
    "# This is the optional book we use in the course, excellent intuitions and straightforward programming examples\n",
    "# please note, however, that this code has been manipulated to reflect our assumptions and notation.\n",
    "import numpy as np\n",
    "from scipy.special import expit\n",
    "import pandas as pd\n",
    "import sys\n",
    "\n",
    "# start with a simple base classifier, which can't be fit or predicted\n",
    "# it only has internal classes to be used by classes that will subclass it\n",
    "class TwoLayerPerceptronBase(object):\n",
    "    def __init__(self, n_hidden=30,\n",
    "                 C=0.0, epochs=500, eta=0.001, random_state=None):\n",
    "        np.random.seed(random_state)\n",
    "        self.n_hidden = n_hidden\n",
    "        self.l2_C = C\n",
    "        self.epochs = epochs\n",
    "        self.eta = eta\n",
    "        \n",
    "    @staticmethod\n",
    "    def _encode_labels(y):\n",
    "        \"\"\"Encode labels into one-hot representation\"\"\"\n",
    "        onehot = pd.get_dummies(y).values.T\n",
    "            \n",
    "        return onehot\n",
    "\n",
    "    def _initialize_weights(self):\n",
    "        \"\"\"Initialize weights with small random numbers.\"\"\"\n",
    "        W1_num_elems = (self.n_features_ + 1)*self.n_hidden\n",
    "        W1 = np.random.uniform(-1.0, 1.0,size=W1_num_elems)\n",
    "        W1 = W1.reshape(self.n_hidden, self.n_features_ + 1) # reshape to be W\n",
    "        \n",
    "        W2_num_elems = (self.n_hidden + 1)*self.n_output_\n",
    "        W2 = np.random.uniform(-1.0, 1.0, size=W2_num_elems)\n",
    "        W2 = W2.reshape(self.n_output_, self.n_hidden + 1)\n",
    "        return W1, W2\n",
    "    \n",
    "    @staticmethod\n",
    "    def _sigmoid(z):\n",
    "        \"\"\"Use scipy.special.expit to avoid overflow\"\"\"\n",
    "        # 1.0 / (1.0 + np.exp(-z))\n",
    "        return expit(z)\n",
    "    \n",
    "    @staticmethod\n",
    "    def _add_bias_unit(X, how='column'):\n",
    "        \"\"\"Add bias unit (column or row of 1s) to array at index 0\"\"\"\n",
    "        if how == 'column':\n",
    "            ones = np.ones((X.shape[0], 1))\n",
    "            X_new = np.hstack((ones, X))\n",
    "        elif how == 'row':\n",
    "            ones = np.ones((1, X.shape[1]))\n",
    "            X_new = np.vstack((ones, X))\n",
    "        return X_new\n",
    "    \n",
    "    @staticmethod\n",
    "    def _L2_reg(lambda_, W1, W2):\n",
    "        \"\"\"Compute L2-regularization cost\"\"\"\n",
    "        # only compute for non-bias terms\n",
    "        return (lambda_/2.0) * np.sqrt(np.mean(W1[:, 1:] ** 2) + np.mean(W2[:, 1:] ** 2))\n",
    "    \n",
    "    def _cost(self,A3,Y_enc,W1,W2):\n",
    "        '''Get the objective function value'''\n",
    "        cost = np.mean((Y_enc-A3)**2)\n",
    "        L2_term = self._L2_reg(self.l2_C, W1, W2)\n",
    "        return cost + L2_term\n",
    "    \n",
    "    def _feedforward(self, X, W1, W2):\n",
    "        \"\"\"Compute feedforward step\n",
    "        \"\"\"\n",
    "        A1 = self._add_bias_unit(X, how='column')\n",
    "        Z1 = W1 @ A1.T\n",
    "        A2 = self._sigmoid(Z1)\n",
    "        A2 = self._add_bias_unit(A2, how='row')\n",
    "        Z2 = W2 @ A2\n",
    "        A3 = self._sigmoid(Z2)\n",
    "        return A1, Z1, A2, Z2, A3\n",
    "    \n",
    "    def _get_gradient(self, A1, A2, A3, Z1, Z2, Y_enc, W1, W2):\n",
    "        \"\"\" Compute gradient step using backpropagation.\n",
    "        \"\"\"\n",
    "        # vectorized backpropagation\n",
    "        sigma3 = -2*(Y_enc-A3)*A3*(1-A3)\n",
    "        sigma2 = (W2.T @ sigma3)*A2*(1-A2)\n",
    "        \n",
    "        grad1 = sigma2[1:,:] @ A1\n",
    "        grad2 = sigma3 @ A2.T\n",
    "        \n",
    "        # regularize weights that are not bias terms\n",
    "        grad1[:, 1:] += W1[:, 1:] * self.l2_C\n",
    "        grad2[:, 1:] += W2[:, 1:] * self.l2_C\n",
    "\n",
    "        return grad1, grad2\n",
    "    \n",
    "    def predict(self, X):\n",
    "        \"\"\"Predict class labels\"\"\"\n",
    "        _, _, _, _, A3 = self._feedforward(X, self.W1, self.W2)\n",
    "        y_pred = np.argmax(A3, axis=0)\n",
    "        return y_pred"
   ]
  },
  {
   "cell_type": "code",
   "execution_count": 160,
   "metadata": {},
   "outputs": [],
   "source": [
    "from sklearn.metrics import accuracy_score\n",
    "# just start with the vectorized version and minibatch\n",
    "class TLPMiniBatch(TwoLayerPerceptronBase):\n",
    "    def __init__(self, alpha=0.0, decrease_const=0.0, shuffle=True, \n",
    "                 minibatches=1, **kwds):        \n",
    "        # need to add to the original initializer \n",
    "        self.alpha = alpha\n",
    "        self.decrease_const = decrease_const\n",
    "        self.shuffle = shuffle\n",
    "        self.minibatches = minibatches\n",
    "        # but keep other keywords\n",
    "        super().__init__(**kwds)\n",
    "        \n",
    "    \n",
    "    def fit(self, X, y, print_progress=False):\n",
    "        \"\"\" Learn weights from training data. With mini-batch\"\"\"\n",
    "        X_data, y_data = X.copy(), y.copy()\n",
    "        Y_enc = self._encode_labels(y)\n",
    "        \n",
    "        # init weights and setup matrices\n",
    "        self.n_features_ = X_data.shape[1]\n",
    "        self.n_output_ = Y_enc.shape[0]\n",
    "        self.W1, self.W2 = self._initialize_weights()\n",
    "\n",
    "        delta_W1_prev = np.zeros(self.W1.shape)\n",
    "        delta_W2_prev = np.zeros(self.W2.shape)\n",
    "\n",
    "        self.cost_ = []\n",
    "        self.score_ = []\n",
    "        for i in range(self.epochs):\n",
    "\n",
    "            # adaptive learning rate\n",
    "            self.eta /= (1 + self.decrease_const*i)\n",
    "\n",
    "            if print_progress>0 and (i+1)%print_progress==0:\n",
    "                sys.stderr.write('\\rEpoch: %d/%d' % (i+1, self.epochs))\n",
    "                sys.stderr.flush()\n",
    "\n",
    "            if self.shuffle:\n",
    "                idx_shuffle = np.random.permutation(y_data.shape[0])\n",
    "                X_data, Y_enc, y_data = X_data[idx_shuffle], Y_enc[:, idx_shuffle], y_data[idx_shuffle]\n",
    "\n",
    "            mini = np.array_split(range(y_data.shape[0]), self.minibatches)\n",
    "            mini_cost = []\n",
    "            for idx in mini:\n",
    "\n",
    "                # feedforward\n",
    "                A1, Z1, A2, Z2, A3 = self._feedforward(X_data[idx],\n",
    "                                                       self.W1,\n",
    "                                                       self.W2)\n",
    "                \n",
    "                cost = self._cost(A3,Y_enc[:, idx],self.W1,self.W2)\n",
    "                mini_cost.append(cost) # this appends cost of mini-batch only\n",
    "\n",
    "                # compute gradient via backpropagation\n",
    "                grad1, grad2 = self._get_gradient(A1=A1, A2=A2, A3=A3, Z1=Z1, Z2=Z2, \n",
    "                                                  Y_enc=Y_enc[:, idx],\n",
    "                                                  W1=self.W1,W2=self.W2)\n",
    "\n",
    "                # momentum calculations\n",
    "                delta_W1, delta_W2 = self.eta * grad1, self.eta * grad2\n",
    "                self.W1 -= (delta_W1 + (self.alpha * delta_W1_prev))\n",
    "                self.W2 -= (delta_W2 + (self.alpha * delta_W2_prev))\n",
    "                delta_W1_prev, delta_W2_prev = delta_W1, delta_W2\n",
    "\n",
    "            self.cost_.append(mini_cost)\n",
    "            self.score_.append(custom_score(y_data,self.predict(X_data)))\n",
    "            \n",
    "        return self\n",
    "    \n",
    "    \n",
    "    "
   ]
  },
  {
   "cell_type": "code",
   "execution_count": 165,
   "metadata": {
    "collapsed": true
   },
   "outputs": [
    {
     "name": "stdout",
     "output_type": "stream",
     "text": [
      "Screw Accuracy\n"
     ]
    }
   ],
   "source": [
    "class CustomTLP(TLPMiniBatch):\n",
    "    def __init__(self, nonlinearity_function=\"sigmoid\", cost_function=\"quadratic\", **kwargs):\n",
    "        self.nonlinearity_function = nonlinearity_function\n",
    "        self.cost_function = cost_function\n",
    "        super().__init__(**kwargs)\n",
    "        \n",
    "    def _quad_cost(self, A3, Y_enc, W1, W2):\n",
    "        '''Get the objective function value'''\n",
    "        cost = np.mean((Y_enc-A3)**2)\n",
    "        L2_term = self._L2_reg(self.l2_C, W1, W2)\n",
    "        return cost + L2_term\n",
    "    \n",
    "    def _cross_entropy_cost(self, A3, Y_enc, W1, W2):\n",
    "        cost = -np.mean(np.nan_to_num((Y_enc*np.log(A3)+(1-Y_enc)*np.log(1-A3))))\n",
    "        L2_term = self._L2_reg(self.l2_C, W1, W2)\n",
    "        return cost + L2_term\n",
    "    \n",
    "    def _cost(self, A3, Y_enc, W1, W2):\n",
    "        if self.cost_function == \"quadratic\":\n",
    "            return self._quad_cost(A3, Y_enc, W1, W2)\n",
    "        elif cost_function == \"cross_entropy\":\n",
    "            return self._cross_entropy_cost(A3, Y_enc, W1, W2)\n",
    "        else:\n",
    "            raise Exception(\"Use 'quadratic'/'cross_entropy' for the value of cost_function\")\n",
    "    \n",
    "    def _get_gradient(self, A1, A2, A3, Z1, Z2, Y_enc, W1, W2):\n",
    "        if self.nonlinearity_function == \"linear\":\n",
    "            return self._linear_gradient(A1, A2, A3, Z1, Z2, Y_enc, W1, W2)\n",
    "        else:\n",
    "            return self._sigmoid_gradient(A1, A2, A3, Z1, Z2, Y_enc, W1, W2)\n",
    "        \n",
    "    \n",
    "    def _sigmoid_gradient(self, A1, A2, A3, Z1, Z2, Y_enc, W1, W2):\n",
    "        \"\"\" Compute gradient step using backpropagation.\n",
    "        \"\"\"\n",
    "        # vectorized backpropagation\n",
    "        sigma3 = -2*(Y_enc-A3)*A3*(1-A3)\n",
    "        sigma2 = (W2.T @ sigma3)*A2*(1-A2)\n",
    "        \n",
    "        grad1 = sigma2[1:,:] @ A1\n",
    "        grad2 = sigma3 @ A2.T\n",
    "        \n",
    "        # regularize weights that are not bias terms\n",
    "        grad1[:, 1:] += W1[:, 1:] * self.l2_C\n",
    "        grad2[:, 1:] += W2[:, 1:] * self.l2_C\n",
    "\n",
    "        return grad1, grad2\n",
    "    \n",
    "    def _linear_gradient(self, A1, A2, A3, Z1, Z2, Y_enc, W1, W2):\n",
    "        \"\"\" Compute gradient step using backpropagation.\n",
    "        \"\"\"\n",
    "        # vectorized backpropagation\n",
    "        sigma3 = (A3-Y_enc) \n",
    "        # sigma3[Z2<=0] = 0 # can change to be relu back prop on this layer too!\n",
    "        \n",
    "        sigma2 = (W2.T @ sigma3) \n",
    "        Z1_with_bias = self._add_bias_unit(Z1,how='row')\n",
    "        sigma2[Z1_with_bias<=0] = 0\n",
    "        # relu derivative only zeros out certain values! easy!\n",
    "        \n",
    "        grad1 = sigma2[1:,:] @ A1\n",
    "        grad2 = sigma3 @ A2.T\n",
    "        \n",
    "        # regularize weights that are not bias terms\n",
    "        grad1[:, 1:] += (W1[:, 1:] * self.l2_C)\n",
    "        grad2[:, 1:] += (W2[:, 1:] * self.l2_C)\n",
    "\n",
    "        return grad1, grad2\n",
    "    \n",
    "    def _feedforward(self, X, W1, W2):\n",
    "        \"\"\"Compute feedforward step\n",
    "        \"\"\"\n",
    "        # A1->W1->ReLu->A2->W2->Sigmoid\n",
    "        A1 = self._add_bias_unit(X, how='column')\n",
    "        Z1 = W1 @ A1.T\n",
    "        \n",
    "        if self.nonlinearity_function == \"linear\":\n",
    "            A2 = self._relu(Z1)\n",
    "        else:\n",
    "            A2 = self._sigmoid(Z1)\n",
    "            \n",
    "        A2 = self._add_bias_unit(A2, how='row')\n",
    "        Z2 = W2 @ A2\n",
    "        A3 = self._sigmoid(Z2)\n",
    "        return A1, Z1, A2, Z2, A3\n",
    "    \n",
    "    \n",
    "    ## The following params are to enable compatibility with GridSearchCV\n",
    "    def get_params(self, deep=True):\n",
    "        return {\"cost_function\": self.cost_function, \n",
    "                \"nonlinearity_function\": self.nonlinearity_function, \n",
    "                \"C\": self.l2_C, \n",
    "                \"epochs\": self.epochs, \n",
    "                \"eta\": self.eta, \n",
    "                \"n_hidden\": self.n_hidden}\n",
    "    \n",
    "    def set_params(self, **parameters):\n",
    "        for parameter, value in parameters.items():\n",
    "            self.__setattr__(parameter, value)\n",
    "            \n",
    "        return self\n",
    "    \n",
    "    def score(self, X, y):\n",
    "        y_hat = self.predict(X)\n",
    "        return custom_score(y, y_hat)  # Using our custom score metric\n",
    "    \n",
    "print (\"Screw Accuracy\")  "
   ]
  },
  {
   "cell_type": "code",
   "execution_count": 162,
   "metadata": {},
   "outputs": [],
   "source": [
    "def custom_score(ground_truth, predictions):\n",
    "    total_relevant_instances = 0\n",
    "    sum_correct = 0\n",
    "    for actual_class, predicted_class in zip(ground_truth, predictions):\n",
    "        if actual_class in [0,1]:\n",
    "            total_relevant_instances += 1\n",
    "            if predicted_class in [0,1]:\n",
    "                sum_correct += 1\n",
    "        else: # if actual_class == 2\n",
    "            if predicted_class != 2:\n",
    "                total_relevant_instances += 1\n",
    "    return sum_correct/total_relevant_instances"
   ]
  },
  {
   "cell_type": "code",
   "execution_count": 163,
   "metadata": {
    "collapsed": true
   },
   "outputs": [
    {
     "name": "stdout",
     "output_type": "stream",
     "text": [
      "   wife_age  wife_education  husband_education  num_children  \\\n",
      "0        24               2                  3             3   \n",
      "1        45               1                  3            10   \n",
      "2        43               2                  3             7   \n",
      "3        42               3                  2             9   \n",
      "4        36               3                  3             8   \n",
      "\n",
      "   wife_practices_islam  wife_working  sol_index  media_exposure  \n",
      "0                     1             0          3               1  \n",
      "1                     1             0          4               1  \n",
      "2                     1             0          4               1  \n",
      "3                     1             0          3               1  \n",
      "4                     1             0          2               1  \n",
      "0    0\n",
      "1    0\n",
      "2    0\n",
      "3    0\n",
      "4    0\n",
      "Name: contraceptive_method, dtype: int64\n"
     ]
    }
   ],
   "source": [
    "# Define X and y\n",
    "X = data.loc[:, data.columns != \"contraceptive_method\"]\n",
    "y = data[\"contraceptive_method\"]\n",
    "\n",
    "print(X.head())\n",
    "print(y.head())"
   ]
  },
  {
   "cell_type": "code",
   "execution_count": 166,
   "metadata": {
    "collapsed": true
   },
   "outputs": [],
   "source": [
    "## This cell is bad pls fix, needs GridSearchCV\n",
    "\n",
    "from sklearn.preprocessing import StandardScaler\n",
    "from sklearn.pipeline import Pipeline\n",
    "from sklearn.model_selection import GridSearchCV\n",
    "# from sklearn.model_selection import KFold -> use stratified said larson\n",
    "from sklearn.model_selection import StratifiedKFold\n",
    "from sklearn.metrics import make_scorer\n",
    "from sklearn.model_selection import cross_val_score\n",
    "from sklearn.pipeline import make_pipeline\n",
    "\n",
    "# params = dict(n_hidden=50, \n",
    "#               C=0.1, # tradeoff L2 regularizer\n",
    "#               epochs=200, # iterations\n",
    "#               eta=0.001,  # learning rate\n",
    "#               random_state=1)  # Todo make this use CustomTLP required params\n",
    "\n",
    "\n",
    "params = {\n",
    "#     'cost_function':('cross_entropy', 'quadratic'),\n",
    "#     'nonlinearity_function':('linear', 'sigmoid'),\n",
    "    'n_hidden': [50],\n",
    "    'C': [0.1],\n",
    "    'epochs': [200],\n",
    "    'eta': [0.001],\n",
    "    'random_state': [1]\n",
    "}\n",
    "\n",
    "mlp = CustomTLP()\n",
    "\n",
    "clf = Pipeline([('scl',StandardScaler()),\n",
    "                ('clf',GridSearchCV(mlp, params))])  # use gridSearchCV here\n",
    "# clf.fit(X, y)\n",
    "\n",
    "\n",
    "cv = StratifiedKFold(n_splits=10)\n",
    "\n",
    "my_scorer = make_scorer(custom_score) \n",
    "\n",
    "per_fold_eval_criteria = cross_val_score(estimator=clf,\n",
    "                                    X=X,\n",
    "                                    y=y,\n",
    "                                    cv=cv,\n",
    "                                    scoring=my_scorer\n",
    "                                   )"
   ]
  },
  {
   "cell_type": "markdown",
   "metadata": {},
   "source": [
    "### Compare Performance to Scikit-Learn"
   ]
  },
  {
   "cell_type": "markdown",
   "metadata": {},
   "source": [
    "## Exceptional Work"
   ]
  }
 ],
 "metadata": {
  "kernelspec": {
   "display_name": "Python 3",
   "language": "python",
   "name": "python3"
  },
  "language_info": {
   "codemirror_mode": {
    "name": "ipython",
    "version": 3
   },
   "file_extension": ".py",
   "mimetype": "text/x-python",
   "name": "python",
   "nbconvert_exporter": "python",
   "pygments_lexer": "ipython3",
   "version": "3.6.1"
  }
 },
 "nbformat": 4,
 "nbformat_minor": 2
}
