{
 "cells": [
  {
   "cell_type": "markdown",
   "metadata": {},
   "source": [
    "From the dataset's description: \n",
    "\n",
    "\"The CIFAR-10 dataset consists of 60000 32x32 colour images in 10 classes, with 6000 images per class. There are 50000 training images and 10000 test images. \n",
    "\n",
    "The dataset is divided into five training batches and one test batch, each with 10000 images. The test batch contains exactly 1000 randomly-selected images from each class. The training batches contain the remaining images in random order, but some training batches may contain more images from one class than another. Between them, the training batches contain exactly 5000 images from each class.\n",
    "\n",
    "The CIFAR-100 dataset is just like the CIFAR-10, except it has 100 classes containing 600 images each. There are 500 training images and 100 testing images per class. The 100 classes in the CIFAR-100 are grouped into 20 superclasses. Each image comes with a \"fine\" label (the class to which it belongs) and a \"coarse\" label (the superclass to which it belongs).\"\n",
    "\n",
    "We will be using the CIFAR-100 dataset.\n",
    "\n",
    "Dataset source: http://www.cs.toronto.edu/~kriz/cifar.html\n",
    "\n",
    "As requested, we will also cite Alex Krizhevsky's paper, Learning Multiple Layers of Features from Tiny Images (April 8, 2009) http://www.cs.toronto.edu/~kriz/learning-features-2009-TR.pdf\n",
    "\n",
    "## TODO: Business Case"
   ]
  },
  {
   "cell_type": "markdown",
   "metadata": {},
   "source": [
    "## Preparation"
   ]
  },
  {
   "cell_type": "code",
   "execution_count": 9,
   "metadata": {
    "collapsed": true
   },
   "outputs": [],
   "source": [
    "import numpy as np\n",
    "\n",
    "def unpickle(file):\n",
    "    import pickle\n",
    "    with open(file, 'rb') as fo:\n",
    "        dict = pickle.load(fo, encoding='bytes')\n",
    "    return dict"
   ]
  },
  {
   "cell_type": "markdown",
   "metadata": {},
   "source": [
    "First, let's load the dataset. The meta file contains the actual titles"
   ]
  },
  {
   "cell_type": "code",
   "execution_count": 10,
   "metadata": {
    "collapsed": true
   },
   "outputs": [],
   "source": [
    "train = unpickle(\"cifar-100-python/train\")\n",
    "validation = unpickle(\"cifar-100-python/test\")\n",
    "meta = unpickle(\"cifar-100-python/meta\")\n",
    "\n",
    "X_train = train[b\"data\"]\n",
    "X_validation = validation[b\"data\"]\n",
    "\n",
    "y_train = train[b\"fine_labels\"]\n",
    "y_validation = validation[b\"fine_labels\"]\n",
    "\n",
    "label_names = meta[b\"fine_label_names\"]"
   ]
  },
  {
   "cell_type": "markdown",
   "metadata": {},
   "source": [
    "### Preprocessing (10)\n",
    "\n",
    "Define and prepare your class variables. Use proper variable representations (int, float, one-hot, etc.). Use pre-processing methods (as needed) for dimensionality reduction, scaling, etc. Remove variables that are not needed/useful for the analysis. Describe the final dataset that is used for classification/regression (include a description of any newly formed variables you created).   "
   ]
  },
  {
   "cell_type": "markdown",
   "metadata": {},
   "source": [
    "The classes included in the dataset are shown below. To prepare our dataset, we decided to one hot encode the classes and normalize the pixel values from 0-255 to -1 to 1. We will be using the Classes column, but the Superclass column may come in useful for analyzing performance on the subclasses. \n",
    "\n",
    "\n",
    "| Superclass\t|  Classes  |\n",
    "| ----------- | --------- |\n",
    "| aquatic mammals |\tbeaver, dolphin, otter, seal, whale |\n",
    "| fish |\taquarium fish, flatfish, ray, shark, trout |\n",
    "| flowers |\torchids, poppies, roses, sunflowers, tulips |\n",
    "| food containers |\tbottles, bowls, cans, cups, plates |\n",
    "| fruit and vegetables |\tapples, mushrooms, oranges, pears, sweet peppers |\n",
    "| household electrical devices | clock, computer keyboard, lamp, telephone, television |\n",
    "| household furniture |\tbed, chair, couch, table, wardrobe |\n",
    "| insects |\tbee, beetle, butterfly, caterpillar, cockroach |\n",
    "| large carnivores |\tbear, leopard, lion, tiger, wolf |\n",
    "| large man-made outdoor things |\tbridge, castle, house, road, skyscraper |\n",
    "| large natural outdoor scenes |\tcloud, forest, mountain, plain, sea |\n",
    "| large omnivores and herbivores |\tcamel, cattle, chimpanzee, elephant, kangaroo |\n",
    "| medium-sized mammals |\tfox, porcupine, possum, raccoon, skunk |\n",
    "| non-insect invertebrates |\tcrab, lobster, snail, spider, worm |\n",
    "| people |\tbaby, boy, girl, man, woman |\n",
    "| reptiles |\tcrocodile, dinosaur, lizard, snake, turtle |\n",
    "| small mammals |\thamster, mouse, rabbit, shrew, squirrel |\n",
    "| trees\t| maple, oak, palm, pine, willow |\n",
    "| vehicles 1 |\tbicycle, bus, motorcycle, pickup truck, train |\n",
    "| vehicles 2 |\tlawn-mower, rocket, streetcar, tank, tractor |"
   ]
  },
  {
   "cell_type": "code",
   "execution_count": 11,
   "metadata": {},
   "outputs": [
    {
     "data": {
      "text/plain": [
       "'2.0.8'"
      ]
     },
     "execution_count": 11,
     "metadata": {},
     "output_type": "execute_result"
    }
   ],
   "source": [
    "import keras\n",
    "from keras.models import Sequential\n",
    "from keras.layers import Reshape\n",
    "from keras.layers import Dense, Dropout, Activation, Flatten\n",
    "from keras.layers import Conv2D, MaxPooling2D\n",
    "from keras.preprocessing.image import ImageDataGenerator\n",
    "from keras.callbacks import EarlyStopping\n",
    "from keras.regularizers import l2\n",
    "from keras.layers import average \n",
    "from keras.models import Input, Model\n",
    "\n",
    "keras.__version__"
   ]
  },
  {
   "cell_type": "code",
   "execution_count": 12,
   "metadata": {
    "collapsed": true
   },
   "outputs": [],
   "source": [
    "from sklearn.preprocessing import normalize\n",
    "\n",
    "y_train_labels = [label_names[index] for index in y_train]\n",
    "y_validation_labels = [label_names[index] for index in y_validation]\n",
    "NUM_CLASSES = 100\n",
    "\n",
    "y_train_ohe = y_train_ohe = keras.utils.to_categorical(y_train, NUM_CLASSES)\n",
    "y_validation_ohe = keras.utils.to_categorical(y_validation, NUM_CLASSES)"
   ]
  },
  {
   "cell_type": "code",
   "execution_count": 13,
   "metadata": {},
   "outputs": [
    {
     "name": "stderr",
     "output_type": "stream",
     "text": [
      "D:\\anaconda\\envs\\mlenv\\lib\\site-packages\\sklearn\\utils\\validation.py:429: DataConversionWarning: Data with input dtype uint8 was converted to float64 by the normalize function.\n",
      "  warnings.warn(msg, _DataConversionWarning)\n"
     ]
    }
   ],
   "source": [
    "X_train_scaled = normalize(X_train)\n",
    "X_validation_scaled = normalize(X_validation)"
   ]
  },
  {
   "cell_type": "code",
   "execution_count": 14,
   "metadata": {},
   "outputs": [
    {
     "data": {
      "image/png": "[encoded data removed]",
      "text/plain": [
       "<matplotlib.figure.Figure at 0x20c48cd5550>"
      ]
     },
     "metadata": {},
     "output_type": "display_data"
    }
   ],
   "source": [
    "# What do these images look like?\n",
    "from matplotlib import pyplot as plt\n",
    "%matplotlib inline\n",
    "\n",
    "# a helper plotting function\n",
    "def plot_gallery(images, titles, h, w, n_row=3, n_col=6):\n",
    "    \"\"\"Helper function to plot a gallery of portraits\"\"\"\n",
    "    plt.figure(figsize=(1.7 * n_col, 2.3 * n_row))\n",
    "    for i in range(n_row * n_col):\n",
    "        plt.subplot(n_row, n_col, i + 1)\n",
    "        \n",
    "        # this line is to get the images to display properly. \n",
    "        # Due to the way the data is stored, more has to be done on the data than the basic stuff in the example notebooks.\n",
    "        # rot90(image, 1 rotation, (1,0)) does a 90 degree clockwise rotation\n",
    "        # images[i].reshape((3,h,w)).T splits the image into its proper channels from its flattened form\n",
    "        plt.imshow(np.rot90(images[i].reshape((3, h, w)).T, 1, (1,0)))\n",
    "        plt.title(titles[i], size=12)\n",
    "        plt.xticks(())\n",
    "        plt.yticks(())\n",
    "\n",
    "plot_gallery(X_train, y_train_labels, 32, 32) # defaults to showing a 3 by 6 subset"
   ]
  },
  {
   "cell_type": "markdown",
   "metadata": {},
   "source": [
    "### Evaluation Metric\n",
    "\n",
    "We will be using accuracy to measure the performance of the algorithm. We don't particularly care about any class over another, so false classifications don't weigh more or less either way. What we might run into is the existence of too many classes to effectively train the models on. For example, in the picture of the boy above, it is clear that that is a person, but it is difficult to tell the gender and even the age of the human in the picture. So, the model might correctly train to recognize humans, but might not be deep enough to tell the difference between the different kinds of humans. \n",
    "\n",
    "We may decide to collapse the classes back into the superclasses and see how the model does at landing in the larger category buckets while missing the exact class in that superclass. However, we chose to try out CIFAR 100 because of its relative difficulty, so we will be starting with it. "
   ]
  },
  {
   "cell_type": "markdown",
   "metadata": {},
   "source": [
    "### Training/Testing Split"
   ]
  },
  {
   "cell_type": "markdown",
   "metadata": {
    "collapsed": true
   },
   "source": [
    "For dividing our dataset, we will be using stratified 5-fold cross validation. We find that 10 folds is a common number of folds that gets used in cross validation techniques. With 60,000 training images, we may be approaching the point where averaging the results of folds will not provide as much confidence in the generalization performance of our model as simply having a better network architecture for the problem. Additionally, the per-model training time is greatly increased relative to our previous work. We will choose 5 folds as our trade-off between estimating generalization performance and training time. \n",
    "\n",
    "Additionally, we will be leaving out 10,000 samples to use in a validation set. So, the models will train on 60,000 samples, and will never see 10,000 more of them. We will be using those 10,000 samples (set aside in the \"test\" set in our dataset) as a validation set to evaluate the models' performances on a completely new set of data. \n",
    "\n",
    "We think a stratified method is a realistic mirroring of how an algorithm would be deployed because we have no reason to believe any of these classes would appear more often than others. So, we don't want to bias the models with more data from a given class. \n",
    "\n",
    "In practice, we would not use cross validation as a part of our deployed algorithm. We will use cross-validation to estimate the performances of different models, but once we have determined our best model, we will train it using all of our data and judge the performance of the algorithm on new images. "
   ]
  },
  {
   "cell_type": "markdown",
   "metadata": {},
   "source": [
    "## Modeling"
   ]
  },
  {
   "cell_type": "markdown",
   "metadata": {},
   "source": [
    "### EZ Money/Larson.copy_pasta() (20)\n",
    "\n",
    "Create a convolutional neural network to use on your data using tensorflow. "
   ]
  },
  {
   "cell_type": "code",
   "execution_count": null,
   "metadata": {
    "collapsed": true
   },
   "outputs": [],
   "source": [
    "from sklearn.model_selection import StratifiedKFold\n",
    "\n",
    "### Part 1 of convolutional NN\n",
    "\n",
    "img_wh = 32\n",
    "\n",
    "# Copy TensorFlow Architecture from \n",
    "#   Deep MNIST for experts\n",
    "#   https://www.tensorflow.org/versions/r0.11/tutorials/mnist/pros/index.html\n",
    "\n",
    "# Manipulated to mirror parts of this network:\n",
    "#   http://ankivil.com/mnist-database-and-simple-classification-networks/\n",
    "\n",
    "def create_cnn1():\n",
    "    cnn = Sequential()\n",
    "    cnn.add(Reshape((img_wh, img_wh, 3), input_shape=(1,3072)))\n",
    "\n",
    "    num_filt_layers = [32, 64]\n",
    "    for num_filters in num_filt_layers:\n",
    "        cnn.add(Conv2D(filters=num_filters, \n",
    "                        kernel_size=(3,3), \n",
    "                        kernel_initializer='he_uniform',\n",
    "                        padding='same', \n",
    "                        activation='relu')) # more compact syntax\n",
    "\n",
    "        # max pooling\n",
    "        cnn.add(MaxPooling2D(pool_size=(2, 2), data_format=\"channels_last\"))\n",
    "\n",
    "\n",
    "    # add one layer on flattened output\n",
    "    cnn.add(Dropout(0.25)) # add some dropout for regularization after conv layers\n",
    "    cnn.add(Flatten())\n",
    "    cnn.add(Dense(1024, activation='relu'))\n",
    "    cnn.add(Dropout(0.5)) # add some dropout for regularization, again!\n",
    "    cnn.add(Dense(NUM_CLASSES, activation='softmax'))\n",
    " \n",
    "    cnn.compile(loss='categorical_crossentropy', # 'categorical_crossentropy' 'mean_squared_error'\n",
    "                  optimizer='adam', # 'adadelta' 'rmsprop', 'adam'\n",
    "                  metrics=['accuracy'])\n",
    "    \n",
    "    return cnn"
   ]
  },
  {
   "cell_type": "markdown",
   "metadata": {},
   "source": [
    "Now let's train this architecture on our dataset. "
   ]
  },
  {
   "cell_type": "code",
   "execution_count": null,
   "metadata": {},
   "outputs": [],
   "source": [
    "import sklearn.metrics as mt\n",
    "import pickle\n",
    "\n",
    "num_folds = 5\n",
    "cnn1_data = {}\n",
    "\n",
    "skf = StratifiedKFold(n_splits=num_folds, shuffle=True)\n",
    "for i, (train, test) in enumerate(skf.split(X_train_scaled, y_train)):\n",
    "    fold_index = f\"fold_{i}\"\n",
    "    \n",
    "    print(f\"Fold {i}\")\n",
    "    cnn1 = create_cnn1()\n",
    "    cnn1.fit(np.expand_dims(X_train_scaled[train], axis=1), y_train_ohe[train], \n",
    "            batch_size=128, epochs=15, \n",
    "            shuffle=True, verbose=1,\n",
    "            validation_data=(np.expand_dims(X_train_scaled[test], axis=1),y_train_ohe[test]))\n",
    "    \n",
    "    cnn1_data[fold_index] = {}\n",
    "    cnn1_data[fold_index][\"train_indices\"] = train\n",
    "    cnn1_data[fold_index][\"test_indices\"] = test\n",
    "    cnn1_data[fold_index][\"probas\"] = cnn1.predict_proba(np.expand_dims(X_validation_scaled, axis=1))\n",
    "    \n",
    "    yhat = np.argmax(cnn1.predict(np.expand_dims(X_validation_scaled, axis=1)), axis=1)\n",
    "    print (yhat)\n",
    "    acc = mt.accuracy_score(y_validation,yhat)\n",
    "    cnn1_data[fold_index][\"accuracy\"] = acc\n",
    "    \n",
    "\n",
    "with open('cnn1_data.pickle', 'wb') as handle:\n",
    "    pickle.dump(cnn1_data, handle, protocol=pickle.HIGHEST_PROTOCOL)"
   ]
  },
  {
   "cell_type": "code",
   "execution_count": null,
   "metadata": {
    "collapsed": true
   },
   "outputs": [],
   "source": [
    "import pickle\n",
    "with open('cnn1_data.pickle', 'wb') as handle:\n",
    "    pickle.dump(cnn1_data, handle, protocol=pickle.HIGHEST_PROTOCOL)"
   ]
  },
  {
   "cell_type": "code",
   "execution_count": 15,
   "metadata": {
    "collapsed": true
   },
   "outputs": [],
   "source": [
    "### Run this cell if you haven't run the above model\n",
    "import pickle\n",
    "\n",
    "with open('cnn1_data.pickle', 'rb') as handle:\n",
    "    cnn1_data = pickle.load(handle)\n",
    "# print(cnn1_data)"
   ]
  },
  {
   "cell_type": "markdown",
   "metadata": {},
   "source": [
    "Now we will try out a different model. We will use ensembles and L2 regularization on the kernels as well. "
   ]
  },
  {
   "cell_type": "code",
   "execution_count": null,
   "metadata": {
    "collapsed": true
   },
   "outputs": [],
   "source": [
    "# %%time\n",
    "\n",
    "## Taken from Larson's code, modified to fit our dataset\n",
    "def create_cnn2():\n",
    "    l2_lambda = 0.0001\n",
    "\n",
    "    num_ensembles = 3\n",
    "    img_wh = 32\n",
    "\n",
    "    input_holder = Input(shape=(1, 3072))\n",
    "    \n",
    "\n",
    "    branches = []\n",
    "    for _ in range(num_ensembles):\n",
    "        reshape = Reshape((img_wh, img_wh, 3), input_shape=(1,3072))(input_holder)\n",
    "\n",
    "        conv1 = Conv2D(filters=32,\n",
    "                       input_shape = (img_wh,img_wh,3),\n",
    "                       kernel_size=(3,3),\n",
    "                       kernel_initializer='he_uniform', \n",
    "                       kernel_regularizer=l2(l2_lambda),\n",
    "                       padding='same', \n",
    "                       activation='relu')(reshape)\n",
    "\n",
    "        max1 = MaxPooling2D(pool_size=(2, 2), data_format=\"channels_last\")(conv1)\n",
    "\n",
    "        conv2 = Conv2D(filters=64,\n",
    "                       kernel_size=(3,3),\n",
    "                       kernel_initializer='he_uniform', \n",
    "                       kernel_regularizer=l2(l2_lambda),\n",
    "                       padding='same', \n",
    "                       activation='relu')(max1)\n",
    "\n",
    "        max2 = MaxPooling2D(pool_size=(2, 2), data_format=\"channels_last\")(conv2)\n",
    "\n",
    "\n",
    "        # add one layer on flattened output\n",
    "        drop1 = Dropout(0.25)(max2) # add some dropout for regularization after conv layers\n",
    "        flat1 = Flatten()(drop1)\n",
    "        dense1 = Dense(128, \n",
    "                      activation='relu',\n",
    "                      kernel_initializer='he_uniform',\n",
    "                      kernel_regularizer=l2(l2_lambda)\n",
    "                    )(flat1)\n",
    "        drop2 = Dropout(0.5)(dense1) # add some dropout for regularization, again!\n",
    "        dense2 = Dense(NUM_CLASSES, \n",
    "                      activation='sigmoid', \n",
    "                      kernel_initializer='glorot_uniform',\n",
    "                      kernel_regularizer=l2(l2_lambda)\n",
    "                     )(drop2)\n",
    "\n",
    "        # now add this branch onto the master list\n",
    "        branches.append(dense2)\n",
    "\n",
    "    # that's it, we just need to average the results\n",
    "    ave = average(branches)\n",
    "\n",
    "    # here is the secret sauce for setting the network using the \n",
    "    #   Model API:\n",
    "    cnn_ens = Model(inputs=input_holder,outputs=ave)\n",
    "\n",
    "    # Let's train the model \n",
    "    cnn_ens.compile(loss='categorical_crossentropy', # 'categorical_crossentropy' 'mean_squared_error'\n",
    "                    optimizer='adam', # 'adadelta' 'rmsprop'\n",
    "                    metrics=['accuracy'])\n",
    "\n",
    "    return cnn_ens"
   ]
  },
  {
   "cell_type": "code",
   "execution_count": null,
   "metadata": {
    "scrolled": true
   },
   "outputs": [],
   "source": [
    "import sklearn.metrics as mt\n",
    "\n",
    "num_folds = 5\n",
    "cnn2_data = {}\n",
    "\n",
    "skf = StratifiedKFold(n_splits=num_folds, shuffle=True)\n",
    "for i, (train, test) in enumerate(skf.split(X_train_scaled, y_train)):\n",
    "    fold_index = f\"fold_{i}\"\n",
    "    \n",
    "    print(f\"Fold {i}\")\n",
    "    cnn2 = create_cnn2()\n",
    "    cnn2.fit(np.expand_dims(X_train_scaled[train], axis=1), y_train_ohe[train], \n",
    "            batch_size=128, epochs=15, \n",
    "            shuffle=True, verbose=1,\n",
    "            validation_data=(np.expand_dims(X_train_scaled[test], axis=1),y_train_ohe[test]))\n",
    "    \n",
    "    cnn2_data[fold_index] = {}\n",
    "    cnn2_data[fold_index][\"train_indices\"] = train\n",
    "    cnn2_data[fold_index][\"test_indices\"] = test\n",
    "    \n",
    "    # slightly different from above because the Model API does not have predict_proba\n",
    "    cnn2_data[fold_index][\"probas\"] = cnn2.predict(np.expand_dims(X_validation_scaled, axis=1))\n",
    "    \n",
    "    # don't want to re-predict - wastes time\n",
    "    yhat = np.argmax(cnn2_data[fold_index][\"probas\"], axis=1)\n",
    "    acc = mt.accuracy_score(y_validation,yhat)\n",
    "    cnn2_data[fold_index][\"accuracy\"] = acc\n",
    "    \n",
    "\n",
    "with open('cnn2_data.pickle', 'wb') as handle:\n",
    "    pickle.dump(cnn2_data, handle, protocol=pickle.HIGHEST_PROTOCOL)"
   ]
  },
  {
   "cell_type": "code",
   "execution_count": 16,
   "metadata": {
    "collapsed": true
   },
   "outputs": [],
   "source": [
    "###  Run this cell if you haven't run the above model\n",
    "import pickle\n",
    "\n",
    "with open('cnn2_data.pickle', 'rb') as handle:\n",
    "    cnn2_data = pickle.load(handle)\n",
    "# print(cnn1_data)"
   ]
  },
  {
   "cell_type": "code",
   "execution_count": 81,
   "metadata": {},
   "outputs": [],
   "source": [
    "### for jenn and lee - use for ROC and AUC\n",
    "\n",
    "# structure\n",
    "# fold_x\n",
    "# # train_indices\n",
    "# # test_indices\n",
    "# # probas\n",
    "# # accuracy\n",
    "# print(cnn1_data[\"fold_4\"][\"accuracy\"])\n",
    "# print(cnn2_data)"
   ]
  },
  {
   "cell_type": "code",
   "execution_count": 82,
   "metadata": {},
   "outputs": [
    {
     "name": "stdout",
     "output_type": "stream",
     "text": [
      "cnn1_score:  [0.34889999999999999, 0.34510000000000002, 0.35620000000000002, 0.34960000000000002, 0.35270000000000001]\n",
      "cnn2_score:  [0.20549999999999999, 0.219, 0.22359999999999999, 0.20949999999999999, 0.2162]\n",
      "cnn_difference:  [0.1434, 0.12610000000000002, 0.13260000000000002, 0.14010000000000003, 0.13650000000000001]\n"
     ]
    }
   ],
   "source": [
    "# Save the accuracy score for both architecture for graphing\n",
    "cnn1_score = []\n",
    "cnn2_score = []\n",
    "cnn_diff = []\n",
    "for i in range (0,5) :\n",
    "\n",
    "    cnn1_score.append(cnn1_data[\"fold_\"+str(i)][\"accuracy\"])\n",
    "    cnn2_score.append(cnn2_data[\"fold_\"+str(i)][\"accuracy\"]) \n",
    "    cnn_diff.append(\n",
    "        cnn1_data[\"fold_\"+str(i)][\"accuracy\"] - \n",
    "        cnn2_data[\"fold_\"+str(i)][\"accuracy\"])\n",
    "    \n",
    "print (\"cnn1_score: \",cnn1_score)\n",
    "print (\"cnn2_score: \",cnn2_score)\n",
    "print (\"cnn_difference: \", cnn_diff)"
   ]
  },
  {
   "cell_type": "markdown",
   "metadata": {},
   "source": [
    "### Two different architectures (20) ^^^^ SEE ABOVE\n",
    "\n",
    "Investigate at least two different convolutional network architectures. Use the method of cross validation and evaluation metric that you argued for at the beginning of the lab. Visualize the results of the CNNs.\n",
    "\n",
    "## TODO: Don't forget to use confidence intervals from ICA3"
   ]
  },
  {
   "cell_type": "code",
   "execution_count": 84,
   "metadata": {
    "scrolled": false
   },
   "outputs": [
    {
     "data": {
      "image/png": "[encoded data removed]",
      "text/plain": [
       "<matplotlib.figure.Figure at 0x20c48a36f98>"
      ]
     },
     "metadata": {},
     "output_type": "display_data"
    }
   ],
   "source": [
    "# Graph Accuracy score of two models -> DONE\n",
    "### TODO: wtf is this x axis? -> limit it to fit the x label;\n",
    "import matplotlib.pyplot as plt\n",
    "\n",
    "ax = plt.subplot()\n",
    "plt.plot(cnn1_score, 'r--', label=\"cnn1\")\n",
    "plt.plot(cnn2_score, 'b--', label=\"cnn2\")\n",
    "plt.plot(cnn_diff, 'g--', label=\"difference\")\n",
    "# ax.set_xticklabels(['0', '1', '2', '3', '4', '5'])\n",
    "\n",
    "plt.legend()\n",
    "plt.ylabel(\"Accuracy\")\n",
    "plt.xlabel(\"Fold\")\n",
    "\n",
    "plt.title(\"Accuracy at Different Folds\")\n",
    "plt.show()"
   ]
  },
  {
   "cell_type": "markdown",
   "metadata": {},
   "source": [
    "We can see that while the general trend of increase and decrease for both architectures are similar except for the first fold, CNN1 performs much better overall. The difference of accuracy scores are maximized at the very first fold, and minimized at the third."
   ]
  },
  {
   "cell_type": "markdown",
   "metadata": {},
   "source": [
    "### Compare performance (10)\n",
    "\n",
    "Compare the performance of your convolutional network to a standard multi-layer perceptron (MLP) using the receiver operating characteristic and area under the curve.   \n",
    "\n",
    "## TODO: Actually do a statistical comparison"
   ]
  },
  {
   "cell_type": "code",
   "execution_count": 23,
   "metadata": {},
   "outputs": [
    {
     "name": "stdout",
     "output_type": "stream",
     "text": [
      "The memory_profiler extension is already loaded. To reload it, use:\n",
      "  %reload_ext memory_profiler\n"
     ]
    }
   ],
   "source": [
    "%load_ext memory_profiler"
   ]
  },
  {
   "cell_type": "code",
   "execution_count": 29,
   "metadata": {
    "collapsed": true
   },
   "outputs": [],
   "source": [
    "# Use MLP -> DONE\n",
    "from sklearn.neural_network import MLPClassifier\n",
    "\n",
    "mlp = MLPClassifier()"
   ]
  },
  {
   "cell_type": "code",
   "execution_count": 37,
   "metadata": {},
   "outputs": [
    {
     "name": "stdout",
     "output_type": "stream",
     "text": [
      "peak memory: 332.30 MiB, increment: 0.01 MiB\n",
      "Wall time: 1min 35s\n"
     ]
    }
   ],
   "source": [
    "%%time\n",
    "%reload_ext memory_profiler\n",
    "%memit\n",
    "mlp.fit(X_train, y_train)"
   ]
  },
  {
   "cell_type": "code",
   "execution_count": 92,
   "metadata": {
    "collapsed": true
   },
   "outputs": [],
   "source": [
    "# TODO : Tweak the graph function to be used with pickled data.\n",
    "from matplotlib import pyplot as plt\n",
    "import seaborn as sns\n",
    "%matplotlib inline\n",
    "\n",
    "def compare_mlp_cnn(cnn, mlp, X_test, y_test):\n",
    "    plt.figure(figsize=(15,5))\n",
    "    if cnn2_data is not None:\n",
    "\n",
    "        # This is larson's        \n",
    "#         yhat_cnn = np.argmax(cnn2.predict(np.expand_dims(X_test, axis=1)), axis=1)\n",
    "#         acc_cnn = mt.accuracy_score(y_test,yhat_cnn)\n",
    "\n",
    "# This is me trying to call the score\n",
    "# What would be the fold index?\n",
    "#         acc_cnn = cnn2_data[fold_index][\"accuracy\"]\n",
    "        plt.subplot(1,2,1)\n",
    "        cm = mt.confusion_matrix(y_test,yhat_cnn)\n",
    "        cm = cm/np.sum(cm,axis=1)[:,np.newaxis]\n",
    "        sns.heatmap(cm, annot=True, fmt='.2f')\n",
    "        plt.title('CNN: '+str(acc_cnn))\n",
    "    \n",
    "    if mlp is not None:\n",
    "        yhat_mlp = mlp.predict(X_test)\n",
    "        acc_mlp = mt.accuracy_score(y_test,yhat_mlp)\n",
    "        plt.subplot(1,2,2)\n",
    "        cm = mt.confusion_matrix(y_test,yhat_mlp)\n",
    "        cm = cm/np.sum(cm,axis=1)[:,np.newaxis]\n",
    "        sns.heatmap(cm,annot=True, fmt='.2f')\n",
    "        plt.title('MLP: '+str(acc_mlp))"
   ]
  },
  {
   "cell_type": "code",
   "execution_count": 94,
   "metadata": {},
   "outputs": [],
   "source": [
    "# Graph both for comparison in heatmap -> import Larson.copy_pasta() DONE\n",
    "compare_mlp_cnn(cnn2_data, mlp, X_validation, y_validation)"
   ]
  },
  {
   "cell_type": "code",
   "execution_count": null,
   "metadata": {
    "collapsed": true
   },
   "outputs": [],
   "source": [
    "# TODO: Compare memory usages (Possible exceptional points) --> Done with %memit"
   ]
  },
  {
   "cell_type": "code",
   "execution_count": null,
   "metadata": {
    "collapsed": true
   },
   "outputs": [],
   "source": [
    "# TODO: Explain statistical evaluation\n",
    "# TODO : Add in the evaluated models from pickle and MLP\n",
    "\n",
    "\n",
    "# TODO: Confidence Intervals\n",
    "# from scipy.stats import ttest_rel\n",
    "\n",
    "# print(\"cnn1 v cnn2:\",ttest_rel(cnn1_eval, cnn2_eval))\n",
    "# print(\"cnn2 v mlp:\",ttest_rel(cnn2_eval, mlp_eval))\n",
    "# print(\"cnn1 v mlp:\",ttest_rel(cnn1_eval, mlp_eval))"
   ]
  },
  {
   "cell_type": "markdown",
   "metadata": {},
   "source": [
    "## Exceptional Work\n",
    "\n",
    "One idea (required for 7000 level students): Use data expansion to train your CNN models. Does this improve generalization performance? "
   ]
  },
  {
   "cell_type": "code",
   "execution_count": null,
   "metadata": {
    "collapsed": true
   },
   "outputs": [],
   "source": []
  }
 ],
 "metadata": {
  "kernelspec": {
   "display_name": "Python 3",
   "language": "python",
   "name": "python3"
  },
  "language_info": {
   "codemirror_mode": {
    "name": "ipython",
    "version": 3
   },
   "file_extension": ".py",
   "mimetype": "text/x-python",
   "name": "python",
   "nbconvert_exporter": "python",
   "pygments_lexer": "ipython3",
   "version": "3.6.2"
  }
 },
 "nbformat": 4,
 "nbformat_minor": 2
}
