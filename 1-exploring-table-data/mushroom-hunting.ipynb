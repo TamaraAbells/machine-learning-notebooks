{
 "cells": [
  {
   "cell_type": "markdown",
   "metadata": {},
   "source": [
    "# Mushroom Hunting\n",
    "Lab Assignment One: Exploring Table Data\n",
    "\n",
    "**_Jake Oien, Seung Ki Lee, Jenn Le_**"
   ]
  },
  {
   "cell_type": "markdown",
   "metadata": {},
   "source": [
    "## Business Understanding"
   ]
  },
  {
   "cell_type": "markdown",
   "metadata": {},
   "source": [
    "This data can be useful in identifying trends in poisonous mushrooms and assist in the classification of unknown mushrooms.\n",
    "\n",
    "Dataset Source: https://www.kaggle.com/uciml/mushroom-classification"
   ]
  },
  {
   "cell_type": "markdown",
   "metadata": {},
   "source": [
    "## Data Understanding"
   ]
  },
  {
   "cell_type": "code",
   "execution_count": 78,
   "metadata": {},
   "outputs": [
    {
     "data": {
      "text/html": [
       "<div>\n",
       "<style>\n",
       "    .dataframe thead tr:only-child th {\n",
       "        text-align: right;\n",
       "    }\n",
       "\n",
       "    .dataframe thead th {\n",
       "        text-align: left;\n",
       "    }\n",
       "\n",
       "    .dataframe tbody tr th {\n",
       "        vertical-align: top;\n",
       "    }\n",
       "</style>\n",
       "<table border=\"1\" class=\"dataframe\">\n",
       "  <thead>\n",
       "    <tr style=\"text-align: right;\">\n",
       "      <th></th>\n",
       "      <th>class</th>\n",
       "      <th>cap-shape</th>\n",
       "      <th>cap-surface</th>\n",
       "      <th>cap-color</th>\n",
       "      <th>bruises</th>\n",
       "      <th>odor</th>\n",
       "      <th>gill-attachment</th>\n",
       "      <th>gill-spacing</th>\n",
       "      <th>gill-size</th>\n",
       "      <th>gill-color</th>\n",
       "      <th>...</th>\n",
       "      <th>stalk-surface-below-ring</th>\n",
       "      <th>stalk-color-above-ring</th>\n",
       "      <th>stalk-color-below-ring</th>\n",
       "      <th>veil-type</th>\n",
       "      <th>veil-color</th>\n",
       "      <th>ring-number</th>\n",
       "      <th>ring-type</th>\n",
       "      <th>spore-print-color</th>\n",
       "      <th>population</th>\n",
       "      <th>habitat</th>\n",
       "    </tr>\n",
       "  </thead>\n",
       "  <tbody>\n",
       "    <tr>\n",
       "      <th>0</th>\n",
       "      <td>p</td>\n",
       "      <td>x</td>\n",
       "      <td>s</td>\n",
       "      <td>n</td>\n",
       "      <td>t</td>\n",
       "      <td>p</td>\n",
       "      <td>f</td>\n",
       "      <td>c</td>\n",
       "      <td>n</td>\n",
       "      <td>k</td>\n",
       "      <td>...</td>\n",
       "      <td>s</td>\n",
       "      <td>w</td>\n",
       "      <td>w</td>\n",
       "      <td>p</td>\n",
       "      <td>w</td>\n",
       "      <td>o</td>\n",
       "      <td>p</td>\n",
       "      <td>k</td>\n",
       "      <td>s</td>\n",
       "      <td>u</td>\n",
       "    </tr>\n",
       "    <tr>\n",
       "      <th>1</th>\n",
       "      <td>e</td>\n",
       "      <td>x</td>\n",
       "      <td>s</td>\n",
       "      <td>y</td>\n",
       "      <td>t</td>\n",
       "      <td>a</td>\n",
       "      <td>f</td>\n",
       "      <td>c</td>\n",
       "      <td>b</td>\n",
       "      <td>k</td>\n",
       "      <td>...</td>\n",
       "      <td>s</td>\n",
       "      <td>w</td>\n",
       "      <td>w</td>\n",
       "      <td>p</td>\n",
       "      <td>w</td>\n",
       "      <td>o</td>\n",
       "      <td>p</td>\n",
       "      <td>n</td>\n",
       "      <td>n</td>\n",
       "      <td>g</td>\n",
       "    </tr>\n",
       "    <tr>\n",
       "      <th>2</th>\n",
       "      <td>e</td>\n",
       "      <td>b</td>\n",
       "      <td>s</td>\n",
       "      <td>w</td>\n",
       "      <td>t</td>\n",
       "      <td>l</td>\n",
       "      <td>f</td>\n",
       "      <td>c</td>\n",
       "      <td>b</td>\n",
       "      <td>n</td>\n",
       "      <td>...</td>\n",
       "      <td>s</td>\n",
       "      <td>w</td>\n",
       "      <td>w</td>\n",
       "      <td>p</td>\n",
       "      <td>w</td>\n",
       "      <td>o</td>\n",
       "      <td>p</td>\n",
       "      <td>n</td>\n",
       "      <td>n</td>\n",
       "      <td>m</td>\n",
       "    </tr>\n",
       "    <tr>\n",
       "      <th>3</th>\n",
       "      <td>p</td>\n",
       "      <td>x</td>\n",
       "      <td>y</td>\n",
       "      <td>w</td>\n",
       "      <td>t</td>\n",
       "      <td>p</td>\n",
       "      <td>f</td>\n",
       "      <td>c</td>\n",
       "      <td>n</td>\n",
       "      <td>n</td>\n",
       "      <td>...</td>\n",
       "      <td>s</td>\n",
       "      <td>w</td>\n",
       "      <td>w</td>\n",
       "      <td>p</td>\n",
       "      <td>w</td>\n",
       "      <td>o</td>\n",
       "      <td>p</td>\n",
       "      <td>k</td>\n",
       "      <td>s</td>\n",
       "      <td>u</td>\n",
       "    </tr>\n",
       "    <tr>\n",
       "      <th>4</th>\n",
       "      <td>e</td>\n",
       "      <td>x</td>\n",
       "      <td>s</td>\n",
       "      <td>g</td>\n",
       "      <td>f</td>\n",
       "      <td>n</td>\n",
       "      <td>f</td>\n",
       "      <td>w</td>\n",
       "      <td>b</td>\n",
       "      <td>k</td>\n",
       "      <td>...</td>\n",
       "      <td>s</td>\n",
       "      <td>w</td>\n",
       "      <td>w</td>\n",
       "      <td>p</td>\n",
       "      <td>w</td>\n",
       "      <td>o</td>\n",
       "      <td>e</td>\n",
       "      <td>n</td>\n",
       "      <td>a</td>\n",
       "      <td>g</td>\n",
       "    </tr>\n",
       "  </tbody>\n",
       "</table>\n",
       "<p>5 rows × 23 columns</p>\n",
       "</div>"
      ],
      "text/plain": [
       "  class cap-shape cap-surface cap-color bruises odor gill-attachment  \\\n",
       "0     p         x           s         n       t    p               f   \n",
       "1     e         x           s         y       t    a               f   \n",
       "2     e         b           s         w       t    l               f   \n",
       "3     p         x           y         w       t    p               f   \n",
       "4     e         x           s         g       f    n               f   \n",
       "\n",
       "  gill-spacing gill-size gill-color   ...   stalk-surface-below-ring  \\\n",
       "0            c         n          k   ...                          s   \n",
       "1            c         b          k   ...                          s   \n",
       "2            c         b          n   ...                          s   \n",
       "3            c         n          n   ...                          s   \n",
       "4            w         b          k   ...                          s   \n",
       "\n",
       "  stalk-color-above-ring stalk-color-below-ring veil-type veil-color  \\\n",
       "0                      w                      w         p          w   \n",
       "1                      w                      w         p          w   \n",
       "2                      w                      w         p          w   \n",
       "3                      w                      w         p          w   \n",
       "4                      w                      w         p          w   \n",
       "\n",
       "  ring-number ring-type spore-print-color population habitat  \n",
       "0           o         p                 k          s       u  \n",
       "1           o         p                 n          n       g  \n",
       "2           o         p                 n          n       m  \n",
       "3           o         p                 k          s       u  \n",
       "4           o         e                 n          a       g  \n",
       "\n",
       "[5 rows x 23 columns]"
      ]
     },
     "execution_count": 78,
     "metadata": {},
     "output_type": "execute_result"
    }
   ],
   "source": [
    "import pandas as pd\n",
    "import numpy as np\n",
    "\n",
    "df = pd.read_csv('./mushrooms.csv')\n",
    "df.head()"
   ]
  },
  {
   "cell_type": "markdown",
   "metadata": {},
   "source": [
    "### Data Value Replacements\n",
    "\n",
    "This data is extremely confusing since we don't inherently know what any of the labels mean. In order to make it more intuitive, we replace the labels with more meaningful values, descriptive labels or variable representations where it makes sense.\n",
    "\n",
    "The main point of this dataset is to classify whether or not a mushroom is possibly poisonous. To make this point clear, we change the class values from \"e\" and \"p\" to a binary value of either 0 or 1. We use the same binary value to indicate whether or not a mushroom has bruises. For number of rings, we replace the letters with the numerical value of the number of rings. Every other value is replaced with its descriptive label to make the data easier to read. We also changed the column names to snake case to be more in line with naming conventions."
   ]
  },
  {
   "cell_type": "code",
   "execution_count": 79,
   "metadata": {},
   "outputs": [
    {
     "data": {
      "text/html": [
       "<div>\n",
       "<style>\n",
       "    .dataframe thead tr:only-child th {\n",
       "        text-align: right;\n",
       "    }\n",
       "\n",
       "    .dataframe thead th {\n",
       "        text-align: left;\n",
       "    }\n",
       "\n",
       "    .dataframe tbody tr th {\n",
       "        vertical-align: top;\n",
       "    }\n",
       "</style>\n",
       "<table border=\"1\" class=\"dataframe\">\n",
       "  <thead>\n",
       "    <tr style=\"text-align: right;\">\n",
       "      <th></th>\n",
       "      <th>class</th>\n",
       "      <th>cap_shape</th>\n",
       "      <th>cap_surface</th>\n",
       "      <th>cap_color</th>\n",
       "      <th>bruises</th>\n",
       "      <th>odor</th>\n",
       "      <th>gill_attachment</th>\n",
       "      <th>gill_spacing</th>\n",
       "      <th>gill_size</th>\n",
       "      <th>gill_color</th>\n",
       "      <th>...</th>\n",
       "      <th>stalk_surface_below_ring</th>\n",
       "      <th>stalk_color_above_ring</th>\n",
       "      <th>stalk_color_below_ring</th>\n",
       "      <th>veil_type</th>\n",
       "      <th>veil_color</th>\n",
       "      <th>ring_number</th>\n",
       "      <th>ring_type</th>\n",
       "      <th>spore_print_color</th>\n",
       "      <th>population</th>\n",
       "      <th>habitat</th>\n",
       "    </tr>\n",
       "  </thead>\n",
       "  <tbody>\n",
       "    <tr>\n",
       "      <th>0</th>\n",
       "      <td>1</td>\n",
       "      <td>convex</td>\n",
       "      <td>smooth</td>\n",
       "      <td>brown</td>\n",
       "      <td>1</td>\n",
       "      <td>pungent</td>\n",
       "      <td>free</td>\n",
       "      <td>close</td>\n",
       "      <td>narrow</td>\n",
       "      <td>black</td>\n",
       "      <td>...</td>\n",
       "      <td>smooth</td>\n",
       "      <td>white</td>\n",
       "      <td>white</td>\n",
       "      <td>partial</td>\n",
       "      <td>white</td>\n",
       "      <td>1</td>\n",
       "      <td>pendant</td>\n",
       "      <td>black</td>\n",
       "      <td>scattered</td>\n",
       "      <td>urban</td>\n",
       "    </tr>\n",
       "    <tr>\n",
       "      <th>1</th>\n",
       "      <td>0</td>\n",
       "      <td>convex</td>\n",
       "      <td>smooth</td>\n",
       "      <td>yellow</td>\n",
       "      <td>1</td>\n",
       "      <td>almond</td>\n",
       "      <td>free</td>\n",
       "      <td>close</td>\n",
       "      <td>broad</td>\n",
       "      <td>black</td>\n",
       "      <td>...</td>\n",
       "      <td>smooth</td>\n",
       "      <td>white</td>\n",
       "      <td>white</td>\n",
       "      <td>partial</td>\n",
       "      <td>white</td>\n",
       "      <td>1</td>\n",
       "      <td>pendant</td>\n",
       "      <td>brown</td>\n",
       "      <td>numerous</td>\n",
       "      <td>grasses</td>\n",
       "    </tr>\n",
       "    <tr>\n",
       "      <th>2</th>\n",
       "      <td>0</td>\n",
       "      <td>bell</td>\n",
       "      <td>smooth</td>\n",
       "      <td>white</td>\n",
       "      <td>1</td>\n",
       "      <td>anise</td>\n",
       "      <td>free</td>\n",
       "      <td>close</td>\n",
       "      <td>broad</td>\n",
       "      <td>brown</td>\n",
       "      <td>...</td>\n",
       "      <td>smooth</td>\n",
       "      <td>white</td>\n",
       "      <td>white</td>\n",
       "      <td>partial</td>\n",
       "      <td>white</td>\n",
       "      <td>1</td>\n",
       "      <td>pendant</td>\n",
       "      <td>brown</td>\n",
       "      <td>numerous</td>\n",
       "      <td>meadows</td>\n",
       "    </tr>\n",
       "    <tr>\n",
       "      <th>3</th>\n",
       "      <td>1</td>\n",
       "      <td>convex</td>\n",
       "      <td>scaly</td>\n",
       "      <td>white</td>\n",
       "      <td>1</td>\n",
       "      <td>pungent</td>\n",
       "      <td>free</td>\n",
       "      <td>close</td>\n",
       "      <td>narrow</td>\n",
       "      <td>brown</td>\n",
       "      <td>...</td>\n",
       "      <td>smooth</td>\n",
       "      <td>white</td>\n",
       "      <td>white</td>\n",
       "      <td>partial</td>\n",
       "      <td>white</td>\n",
       "      <td>1</td>\n",
       "      <td>pendant</td>\n",
       "      <td>black</td>\n",
       "      <td>scattered</td>\n",
       "      <td>urban</td>\n",
       "    </tr>\n",
       "    <tr>\n",
       "      <th>4</th>\n",
       "      <td>0</td>\n",
       "      <td>convex</td>\n",
       "      <td>smooth</td>\n",
       "      <td>gray</td>\n",
       "      <td>0</td>\n",
       "      <td>none</td>\n",
       "      <td>free</td>\n",
       "      <td>crowded</td>\n",
       "      <td>broad</td>\n",
       "      <td>black</td>\n",
       "      <td>...</td>\n",
       "      <td>smooth</td>\n",
       "      <td>white</td>\n",
       "      <td>white</td>\n",
       "      <td>partial</td>\n",
       "      <td>white</td>\n",
       "      <td>1</td>\n",
       "      <td>evanescent</td>\n",
       "      <td>brown</td>\n",
       "      <td>abundant</td>\n",
       "      <td>grasses</td>\n",
       "    </tr>\n",
       "  </tbody>\n",
       "</table>\n",
       "<p>5 rows × 23 columns</p>\n",
       "</div>"
      ],
      "text/plain": [
       "   class cap_shape cap_surface cap_color  bruises     odor gill_attachment  \\\n",
       "0      1    convex      smooth     brown        1  pungent            free   \n",
       "1      0    convex      smooth    yellow        1   almond            free   \n",
       "2      0      bell      smooth     white        1    anise            free   \n",
       "3      1    convex       scaly     white        1  pungent            free   \n",
       "4      0    convex      smooth      gray        0     none            free   \n",
       "\n",
       "  gill_spacing gill_size gill_color   ...    stalk_surface_below_ring  \\\n",
       "0        close    narrow      black   ...                      smooth   \n",
       "1        close     broad      black   ...                      smooth   \n",
       "2        close     broad      brown   ...                      smooth   \n",
       "3        close    narrow      brown   ...                      smooth   \n",
       "4      crowded     broad      black   ...                      smooth   \n",
       "\n",
       "  stalk_color_above_ring stalk_color_below_ring veil_type veil_color  \\\n",
       "0                  white                  white   partial      white   \n",
       "1                  white                  white   partial      white   \n",
       "2                  white                  white   partial      white   \n",
       "3                  white                  white   partial      white   \n",
       "4                  white                  white   partial      white   \n",
       "\n",
       "  ring_number   ring_type spore_print_color  population  habitat  \n",
       "0           1     pendant             black   scattered    urban  \n",
       "1           1     pendant             brown    numerous  grasses  \n",
       "2           1     pendant             brown    numerous  meadows  \n",
       "3           1     pendant             black   scattered    urban  \n",
       "4           1  evanescent             brown    abundant  grasses  \n",
       "\n",
       "[5 rows x 23 columns]"
      ]
     },
     "execution_count": 79,
     "metadata": {},
     "output_type": "execute_result"
    }
   ],
   "source": [
    "# Changing column names\n",
    "for col_name, col in df.iteritems():\n",
    "    df.rename(columns={col_name:col_name.replace('-', '_')}, inplace=True)\n",
    "\n",
    "# Replacing data values, also shows the possible values for each attribute\n",
    "df[\"class\"].replace(to_replace=['e', 'p'],\n",
    "                     value=[0, 1], inplace=True)\n",
    "\n",
    "df.cap_shape.replace(to_replace=['b', 'c', 'x', 'f', 'k', 's'],\n",
    "                     value=[\"bell\", \"conical\", \"convex\", \"flat\", \"knobbed\", \"sunken\"],\n",
    "                     inplace=True)\n",
    "\n",
    "df.cap_surface.replace(to_replace=['f', 'g', 'y', 's'],\n",
    "                     value=[\"fibrous\", \"grooves\", \"scaly\", \"smooth\"], \n",
    "                     inplace=True)\n",
    "\n",
    "df.cap_color.replace(to_replace=['n', 'b', 'c', 'g', 'r', 'p', 'u', 'e', 'w', 'y'],\n",
    "                     value=[\"brown\", \"buff\", \"cinnamon\", \"gray\", \"green\", \"pink\", \n",
    "                            \"purple\", \"red\", \"white\", \"yellow\"], \n",
    "                     inplace=True)\n",
    "\n",
    "df.bruises.replace(to_replace=['f', 't'],\n",
    "                     value=[0, 1], \n",
    "                     inplace=True)\n",
    "\n",
    "df.odor.replace(to_replace=['a', 'l', 'c', 'y', 'f', 'm', 'n', 'p', 's'],\n",
    "                     value=[\"almond\", \"anise\", \"creosote\", \"fishy\", \"foul\", \n",
    "                            \"musty\", \"none\", \"pungent\", \"spicy\"], \n",
    "                     inplace=True)\n",
    "\n",
    "df.gill_attachment.replace(to_replace=['a', 'd', 'f', 'n'],\n",
    "                     value=[\"attached\", \"descending\", \"free\", \"notched\"], \n",
    "                     inplace=True)\n",
    "\n",
    "df.gill_spacing.replace(to_replace=['c', 'w', 'd'],\n",
    "                     value=[\"close\", \"crowded\", \"distant\"], \n",
    "                     inplace=True)\n",
    "\n",
    "df.gill_size.replace(to_replace=['b', 'n'],\n",
    "                     value=[\"broad\", \"narrow\"], \n",
    "                     inplace=True)\n",
    "\n",
    "df.gill_color.replace(to_replace=['k', 'n', 'b', 'h', 'g', 'r', 'o', \n",
    "                                  'p', 'u', 'e', 'w', 'y'],\n",
    "                     value=[\"black\", \"brown\", \"buff\", \"chocolate\", \"gray\", \n",
    "                            \"green\", \"orange\", \"pink\", \"purple\", \"red\", \"white\", \"yellow\"], \n",
    "                     inplace=True)\n",
    "\n",
    "df.stalk_shape.replace(to_replace=['e', 't'],\n",
    "                     value=[\"enlarging\", \"tapering\"], \n",
    "                     inplace=True)\n",
    "\n",
    "df.stalk_root.replace(to_replace=['b', 'c', 'u', 'e', 'z', 'r', '?'],\n",
    "                     value=[\"bulbous\", \"club\", \"cup\", \"equal\", \"rhizomorphs\", \n",
    "                            \"rooted\", \"missing\"], \n",
    "                     inplace=True)\n",
    "\n",
    "df.stalk_surface_above_ring.replace(to_replace=['f', 'y', 'k', 's'],\n",
    "                     value=[\"fibrous\", \"scaly\", \"silky\", \"smooth\"], \n",
    "                     inplace=True)\n",
    "\n",
    "df.stalk_surface_below_ring.replace(to_replace=['f', 'y', 'k', 's'],\n",
    "                     value=[\"fibrous\", \"scaly\", \"silky\", \"smooth\"], \n",
    "                     inplace=True)\n",
    "\n",
    "df.stalk_color_above_ring.replace(to_replace=['n', 'b', 'c', 'g', 'o', 'p', 'e', 'w', 'y'],\n",
    "                     value=[\"brown\", \"buff\", \"cinnamon\", \"gray\", \"orange\", \n",
    "                            \"pink\", \"red\", \"white\", \"yellow\"], \n",
    "                     inplace=True)\n",
    "\n",
    "df.stalk_color_below_ring.replace(to_replace=['n', 'b', 'c', 'g', 'o', 'p', 'e', 'w', 'y'],\n",
    "                     value=[\"brown\", \"buff\", \"cinnamon\", \"gray\", \"orange\", \n",
    "                            \"pink\", \"red\", \"white\", \"yellow\"], \n",
    "                     inplace=True)\n",
    "\n",
    "df.veil_type.replace(to_replace=['p', 'u'],\n",
    "                     value=[\"partial\", \"universal\"], \n",
    "                     inplace=True)\n",
    "\n",
    "df.veil_color.replace(to_replace=['n', 'o', 'w', 'y'],\n",
    "                     value=[\"brown\", \"orange\", \"white\", \"yellow\"], inplace=True)\n",
    "\n",
    "df.ring_number.replace(to_replace=['n', 'o', 't'],\n",
    "                     value=[0, 1, 2], inplace=True)\n",
    "\n",
    "df.ring_type.replace(to_replace=['c', 'e', 'f', 'l', 'n', 'p', 's', 'z'],\n",
    "                     value=[\"cobwebby\", \"evanescent\", \"flaring\", \"large\", \n",
    "                            \"none\", \"pendant\", \"sheathing\", \"zone\"], \n",
    "                     inplace=True)\n",
    "\n",
    "df.spore_print_color.replace(to_replace=['k', 'n', 'b', 'h', 'r', 'o', 'u', 'w', 'y'],\n",
    "                     value=[\"black\", \"brown\", \"buff\", \"chocolate\", \"green\", \n",
    "                            \"orange\", \"purple\", \"white\", \"yellow\"], \n",
    "                     inplace=True)\n",
    "\n",
    "df.population.replace(to_replace=['a', 'c', 'n', 's', 'v', 'y'],\n",
    "                     value=[\"abundant\", \"clustered\", \"numerous\", \"scattered\", \n",
    "                            \"several\", \"solitary\"], \n",
    "                     inplace=True)\n",
    "\n",
    "df.habitat.replace(to_replace=['g', 'l', 'm', 'p', 'u', 'w', 'd'],\n",
    "                     value=[\"grasses\", \"leaves\", \"meadows\", \"paths\", \"urban\", \n",
    "                            \"waste\", \"woods\"], \n",
    "                     inplace=True)\n",
    "\n",
    "df.head()"
   ]
  },
  {
   "cell_type": "code",
   "execution_count": 80,
   "metadata": {},
   "outputs": [
    {
     "name": "stdout",
     "output_type": "stream",
     "text": [
      "<class 'pandas.core.frame.DataFrame'>\n",
      "RangeIndex: 8124 entries, 0 to 8123\n",
      "Data columns (total 23 columns):\n",
      "class                       8124 non-null int64\n",
      "cap_shape                   8124 non-null object\n",
      "cap_surface                 8124 non-null object\n",
      "cap_color                   8124 non-null object\n",
      "bruises                     8124 non-null int64\n",
      "odor                        8124 non-null object\n",
      "gill_attachment             8124 non-null object\n",
      "gill_spacing                8124 non-null object\n",
      "gill_size                   8124 non-null object\n",
      "gill_color                  8124 non-null object\n",
      "stalk_shape                 8124 non-null object\n",
      "stalk_root                  8124 non-null object\n",
      "stalk_surface_above_ring    8124 non-null object\n",
      "stalk_surface_below_ring    8124 non-null object\n",
      "stalk_color_above_ring      8124 non-null object\n",
      "stalk_color_below_ring      8124 non-null object\n",
      "veil_type                   8124 non-null object\n",
      "veil_color                  8124 non-null object\n",
      "ring_number                 8124 non-null int64\n",
      "ring_type                   8124 non-null object\n",
      "spore_print_color           8124 non-null object\n",
      "population                  8124 non-null object\n",
      "habitat                     8124 non-null object\n",
      "dtypes: int64(3), object(20)\n",
      "memory usage: 1.4+ MB\n"
     ]
    }
   ],
   "source": [
    "# Show the data types\n",
    "df.info()"
   ]
  },
  {
   "cell_type": "markdown",
   "metadata": {},
   "source": [
    "Most of the attributes are sensory descriptors so we store them as objects in the pandas dataframe. The only attributes that are stored as numerical values are those such as \"poisonous\" which has a binary value or those such as \"ring_number\" which would have an ordinal value."
   ]
  },
  {
   "cell_type": "markdown",
   "metadata": {},
   "source": [
    "Besides \"ring_number\", which is ordinal, all of the attributes in our data are nominal. They're either categorical or binary. "
   ]
  },
  {
   "cell_type": "code",
   "execution_count": 81,
   "metadata": {},
   "outputs": [
    {
     "data": {
      "text/plain": [
       "48.202855736090591"
      ]
     },
     "execution_count": 81,
     "metadata": {},
     "output_type": "execute_result"
    }
   ],
   "source": [
    "# Percentage of possibly poisonous mushrooms in the dataset\n",
    "sum(df[\"class\"]==1)/len(df)*100.0"
   ]
  },
  {
   "cell_type": "markdown",
   "metadata": {
    "collapsed": true
   },
   "source": [
    "## Data Visualization"
   ]
  },
  {
   "cell_type": "markdown",
   "metadata": {},
   "source": [
    "### Single Attribute Analysis"
   ]
  },
  {
   "cell_type": "markdown",
   "metadata": {},
   "source": [
    "When it comes to plants and animals, poisonous ones can usually be identified by their color or odor so we'll first take a look at those to see if our data reflects that at all."
   ]
  },
  {
   "cell_type": "code",
   "execution_count": 82,
   "metadata": {},
   "outputs": [
    {
     "data": {
      "text/plain": [
       "<matplotlib.axes._subplots.AxesSubplot at 0x1186655c0>"
      ]
     },
     "execution_count": 82,
     "metadata": {},
     "output_type": "execute_result"
    },
    {
     "data": {
      "image/png": "[encoded data removed]",
      "text/plain": [
       "<matplotlib.figure.Figure at 0x115ee22e8>"
      ]
     },
     "metadata": {},
     "output_type": "display_data"
    }
   ],
   "source": [
    "import seaborn as sns\n",
    "import matplotlib.pyplot as plt\n",
    "\n",
    "%matplotlib inline\n",
    "\n",
    "sns.countplot(y=df.cap_color, hue=df[\"class\"], palette=\"Set2\")"
   ]
  },
  {
   "cell_type": "code",
   "execution_count": 83,
   "metadata": {},
   "outputs": [
    {
     "name": "stdout",
     "output_type": "stream",
     "text": [
      "---------------------------------------\n",
      "Poison by Odor:\n",
      "odor\n",
      "almond      0.000000\n",
      "anise       0.000000\n",
      "creosote    1.000000\n",
      "fishy       1.000000\n",
      "foul        1.000000\n",
      "musty       1.000000\n",
      "none        0.034014\n",
      "pungent     1.000000\n",
      "spicy       1.000000\n",
      "Name: class, dtype: float64\n"
     ]
    }
   ],
   "source": [
    "# Grouping by odor and seeing the percentage of poisonous mushrooms\n",
    "df_grouped_odor = df.groupby(by='odor')\n",
    "print('---------------------------------------')\n",
    "print('Poison by Odor:')\n",
    "print(df_grouped_odor[\"class\"].sum() / df_grouped_odor[\"class\"].count())"
   ]
  },
  {
   "cell_type": "code",
   "execution_count": 84,
   "metadata": {},
   "outputs": [
    {
     "data": {
      "text/plain": [
       "<matplotlib.axes._subplots.AxesSubplot at 0x1144268d0>"
      ]
     },
     "execution_count": 84,
     "metadata": {},
     "output_type": "execute_result"
    },
    {
     "data": {
      "image/png": "[encoded data removed]",
      "text/plain": [
       "<matplotlib.figure.Figure at 0x118b2b470>"
      ]
     },
     "metadata": {},
     "output_type": "display_data"
    }
   ],
   "source": [
    "sns.countplot(y=df.odor, hue=df[\"class\"], palette=\"muted\")"
   ]
  },
  {
   "cell_type": "markdown",
   "metadata": {},
   "source": [
    "From this data, we can tell that odor is a much better indicator of poison than color. According to our data, a mushroom that has an odor other than almond or anise is definitely poisonous. Besides \"musty\", the sizes of each odor group is fairly considerable and with a 100% rate in all but the \"none\" group, odor is definitely a factor that can't be ignored. On the other hand, the color doesn't seem to be a clear indicator of poison, as all of the color groups have a good amount of both edible and poisonous mushrooms, or just don't have enough instances for us to be sure."
   ]
  },
  {
   "cell_type": "markdown",
   "metadata": {},
   "source": [
    "#### Environment"
   ]
  },
  {
   "cell_type": "markdown",
   "metadata": {},
   "source": [
    "Population, habitat, and bruises are attributes that tell us more about the type of conditions the mushroom can be found in. We'll take a look at the distributions of each of these attributes to see if one is a good indication of poison."
   ]
  },
  {
   "cell_type": "code",
   "execution_count": 85,
   "metadata": {},
   "outputs": [
    {
     "data": {
      "text/plain": [
       "<matplotlib.axes._subplots.AxesSubplot at 0x118e4df60>"
      ]
     },
     "execution_count": 85,
     "metadata": {},
     "output_type": "execute_result"
    },
    {
     "data": {
      "image/png": "[encoded data removed]",
      "text/plain": [
       "<matplotlib.figure.Figure at 0x1143e0c50>"
      ]
     },
     "metadata": {},
     "output_type": "display_data"
    }
   ],
   "source": [
    "sns.countplot(y=df.population, hue=df[\"class\"], palette=\"husl\")"
   ]
  },
  {
   "cell_type": "markdown",
   "metadata": {},
   "source": [
    "It seems like with \"numerous\", \"abundant\", and \"clustered\", there is a high chance of the mushroom not being poisonous. It could be argued that these labels are ambiguous and so don't make for the best attributes, however, the only labels that really are ambiguous are \"numerous\" and \"abundant\", both of which have a 100% edible rate in our data. According to this data, poisonous mushrooms are typically found alone or in a smaller group, usually scattered rather than clustered."
   ]
  },
  {
   "cell_type": "code",
   "execution_count": 86,
   "metadata": {},
   "outputs": [
    {
     "data": {
      "text/plain": [
       "<matplotlib.axes._subplots.AxesSubplot at 0x1190f69b0>"
      ]
     },
     "execution_count": 86,
     "metadata": {},
     "output_type": "execute_result"
    },
    {
     "data": {
      "image/png": "[encoded data removed]",
      "text/plain": [
       "<matplotlib.figure.Figure at 0x1143e2710>"
      ]
     },
     "metadata": {},
     "output_type": "display_data"
    }
   ],
   "source": [
    "sns.countplot(y=df.habitat, hue=df[\"class\"])"
   ]
  },
  {
   "cell_type": "markdown",
   "metadata": {},
   "source": [
    "From the habitat distribution, it seems to be that poisonous mushrooms are more likely to be found in urban settings and on paths rather than meadows or waste. The other attributes have poison rates close to 50% so they aren't very meaningful alone, even though there are fairly clear distinctions on whether the particular envrionment favors edible or poisonous mushrooms."
   ]
  },
  {
   "cell_type": "code",
   "execution_count": 88,
   "metadata": {},
   "outputs": [
    {
     "data": {
      "text/plain": [
       "<matplotlib.axes._subplots.AxesSubplot at 0x119472c50>"
      ]
     },
     "execution_count": 88,
     "metadata": {},
     "output_type": "execute_result"
    },
    {
     "data": {
      "image/png": "[encoded data removed]",
      "text/plain": [
       "<matplotlib.figure.Figure at 0x1194a8a20>"
      ]
     },
     "metadata": {},
     "output_type": "display_data"
    }
   ],
   "source": [
    "sns.countplot(df.bruises, hue=df[\"class\"], palette=\"RdBu\")"
   ]
  },
  {
   "cell_type": "markdown",
   "metadata": {},
   "source": [
    "The last of our envrionment attributes, bruises, shows that mushrooms without bruises are more likely to be poisonous while mushrooms with bruises are more likely to be edible. This can indicate that poisonous mushrooms are tougher than edible ones. Adding to this dataset attributes such as elasticity or texture might make it more accurate."
   ]
  },
  {
   "cell_type": "markdown",
   "metadata": {},
   "source": [
    "Since \"ring_number\" is our only non-nominal attribute, let's also take a look at that."
   ]
  },
  {
   "cell_type": "code",
   "execution_count": 94,
   "metadata": {},
   "outputs": [
    {
     "data": {
      "text/plain": [
       "<matplotlib.axes._subplots.AxesSubplot at 0x119813898>"
      ]
     },
     "execution_count": 94,
     "metadata": {},
     "output_type": "execute_result"
    },
    {
     "data": {
      "image/png": "[encoded data removed]",
      "text/plain": [
       "<matplotlib.figure.Figure at 0x1199d6ef0>"
      ]
     },
     "metadata": {},
     "output_type": "display_data"
    }
   ],
   "source": [
    "sns.distplot(df.ring_number)"
   ]
  },
  {
   "cell_type": "code",
   "execution_count": 93,
   "metadata": {},
   "outputs": [
    {
     "data": {
      "text/plain": [
       "<matplotlib.axes._subplots.AxesSubplot at 0x11972f7f0>"
      ]
     },
     "execution_count": 93,
     "metadata": {},
     "output_type": "execute_result"
    },
    {
     "data": {
      "image/png": "[encoded data removed]",
      "text/plain": [
       "<matplotlib.figure.Figure at 0x1197ef6d8>"
      ]
     },
     "metadata": {},
     "output_type": "display_data"
    }
   ],
   "source": [
    "sns.countplot(df.ring_number, hue=df[\"class\"], palette=\"Blues_d\")"
   ]
  },
  {
   "cell_type": "code",
   "execution_count": 91,
   "metadata": {},
   "outputs": [
    {
     "name": "stdout",
     "output_type": "stream",
     "text": [
      "---------------------------------------\n",
      "Poison by Ring Number:\n",
      "ring_number\n",
      "0    1.000000\n",
      "1    0.508547\n",
      "2    0.120000\n",
      "Name: class, dtype: float64\n"
     ]
    }
   ],
   "source": [
    "# Grouping by odor and seeing the percentage of poisonous mushrooms\n",
    "df_grouped_ring_num = df.groupby(by='ring_number')\n",
    "print('---------------------------------------')\n",
    "print('Poison by Ring Number:')\n",
    "print(df_grouped_ring_num[\"class\"].sum() / df_grouped_ring_num[\"class\"].count())"
   ]
  },
  {
   "cell_type": "code",
   "execution_count": 92,
   "metadata": {},
   "outputs": [
    {
     "data": {
      "text/plain": [
       "ring_number\n",
       "0      36\n",
       "1    7488\n",
       "2     600\n",
       "Name: class, dtype: int64"
      ]
     },
     "execution_count": 92,
     "metadata": {},
     "output_type": "execute_result"
    }
   ],
   "source": [
    "df_grouped_ring_num[\"class\"].count()"
   ]
  },
  {
   "cell_type": "markdown",
   "metadata": {},
   "source": [
    "The majority of our dataset includes mushrooms that have 1 ring and of these, they are almost evenly split on poisonous vs edible. Mushrooms with no rings, however, are all poisonous in our dataset and mushrooms with two rings are more likely to be edible. This can't really be trusted in terms of the no ring category, though, since there are only 36 instances in the entire 8000+ dataset that have no rings."
   ]
  },
  {
   "cell_type": "code",
   "execution_count": null,
   "metadata": {
    "collapsed": true
   },
   "outputs": [],
   "source": []
  }
 ],
 "metadata": {
  "kernelspec": {
   "display_name": "Python 3",
   "language": "python",
   "name": "python3"
  },
  "language_info": {
   "codemirror_mode": {
    "name": "ipython",
    "version": 3
   },
   "file_extension": ".py",
   "mimetype": "text/x-python",
   "name": "python",
   "nbconvert_exporter": "python",
   "pygments_lexer": "ipython3",
   "version": "3.6.2"
  }
 },
 "nbformat": 4,
 "nbformat_minor": 2
}
